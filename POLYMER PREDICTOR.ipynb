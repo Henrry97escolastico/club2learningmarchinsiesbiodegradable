{
 "cells": [
  {
   "cell_type": "markdown",
   "id": "37faa68b",
   "metadata": {},
   "source": [
    "# Introducción\n",
    "Este es un modelo de regresión utilizando Deep Learning mediante el cual se lleva a cabo un proceso de Machine Learning. \n",
    "El modelo se integra por redes neuronales y busca predecir la temperatura de transición vitrea (Tg) de dos polímeros, uno hecho con unidades de Isopropileno y otro con Ácido Láctico.\n",
    "En este proyecto se integraron muchos conocimientos adquiridos durante las sesiones del club 2: Learning Machín de Polímeros. \n",
    "Agrademos a nuestros profesores del club María Ley Flores Y Javier Carrillo."
   ]
  },
  {
   "cell_type": "code",
   "execution_count": 2,
   "id": "b75f416e",
   "metadata": {},
   "outputs": [],
   "source": [
    "import matplotlib.pyplot as plt\n",
    "import numpy as np\n",
    "import pandas as pd\n",
    "\n",
    "from sklearn.model_selection import train_test_split\n",
    "from sklearn.model_selection import cross_val_score\n",
    "from sklearn.model_selection import KFold\n",
    "\n",
    "#from sklearn.pipeline import Pipeline\n",
    "from sklearn.preprocessing import MinMaxScaler\n",
    "from tensorflow.python.keras.models import Sequential\n",
    "from tensorflow.python.keras.layers import Dense\n",
    "from tensorflow.keras.utils import plot_model\n",
    "from tensorflow.python.keras.wrappers.scikit_learn import KerasRegressor"
   ]
  },
  {
   "cell_type": "markdown",
   "id": "2b235833",
   "metadata": {},
   "source": [
    "# Cargar datos"
   ]
  },
  {
   "cell_type": "code",
   "execution_count": 3,
   "id": "c5926c3f",
   "metadata": {},
   "outputs": [],
   "source": [
    "datos = pd.read_csv('base_polimeros.csv')"
   ]
  },
  {
   "cell_type": "code",
   "execution_count": 4,
   "id": "b87320b3",
   "metadata": {},
   "outputs": [
    {
     "data": {
      "text/html": [
       "<div>\n",
       "<style scoped>\n",
       "    .dataframe tbody tr th:only-of-type {\n",
       "        vertical-align: middle;\n",
       "    }\n",
       "\n",
       "    .dataframe tbody tr th {\n",
       "        vertical-align: top;\n",
       "    }\n",
       "\n",
       "    .dataframe thead th {\n",
       "        text-align: right;\n",
       "    }\n",
       "</style>\n",
       "<table border=\"1\" class=\"dataframe\">\n",
       "  <thead>\n",
       "    <tr style=\"text-align: right;\">\n",
       "      <th></th>\n",
       "      <th>Nomenclature</th>\n",
       "      <th>SMILES</th>\n",
       "      <th>Tg</th>\n",
       "      <th>mol</th>\n",
       "      <th>Peso Molecular</th>\n",
       "      <th>EValencia</th>\n",
       "      <th>Rotables</th>\n",
       "      <th>TPSA</th>\n",
       "      <th>CParcial</th>\n",
       "      <th>EEmax</th>\n",
       "      <th>EEmin</th>\n",
       "      <th>AAromaticos</th>\n",
       "    </tr>\n",
       "  </thead>\n",
       "  <tbody>\n",
       "    <tr>\n",
       "      <th>0</th>\n",
       "      <td>Poly(4-biphenyl acrylate)</td>\n",
       "      <td>C=CC(=O)Oc2ccc(c1ccccc1)cc2</td>\n",
       "      <td>383</td>\n",
       "      <td>&lt;rdkit.Chem.rdchem.Mol object at 0x000001C2DCE...</td>\n",
       "      <td>224.259</td>\n",
       "      <td>84</td>\n",
       "      <td>3</td>\n",
       "      <td>26.3</td>\n",
       "      <td>0.423390</td>\n",
       "      <td>11.743743</td>\n",
       "      <td>-1.540408</td>\n",
       "      <td>2</td>\n",
       "    </tr>\n",
       "    <tr>\n",
       "      <th>1</th>\n",
       "      <td>Poly(butyl acrylate)</td>\n",
       "      <td>CCCCOC(=O)C=C</td>\n",
       "      <td>219</td>\n",
       "      <td>&lt;rdkit.Chem.rdchem.Mol object at 0x000001C2DCE...</td>\n",
       "      <td>128.171</td>\n",
       "      <td>52</td>\n",
       "      <td>5</td>\n",
       "      <td>26.3</td>\n",
       "      <td>0.462546</td>\n",
       "      <td>11.246086</td>\n",
       "      <td>-3.786302</td>\n",
       "      <td>0</td>\n",
       "    </tr>\n",
       "    <tr>\n",
       "      <th>2</th>\n",
       "      <td>Poly(sec-butyl acrylate)</td>\n",
       "      <td>CC(OC(=O)C=C)CC</td>\n",
       "      <td>250</td>\n",
       "      <td>&lt;rdkit.Chem.rdchem.Mol object at 0x000001C2DCE...</td>\n",
       "      <td>128.171</td>\n",
       "      <td>52</td>\n",
       "      <td>5</td>\n",
       "      <td>26.3</td>\n",
       "      <td>0.459541</td>\n",
       "      <td>11.392472</td>\n",
       "      <td>-3.843171</td>\n",
       "      <td>0</td>\n",
       "    </tr>\n",
       "    <tr>\n",
       "      <th>3</th>\n",
       "      <td>Poly(2-tertbutylphenyl acrylate)</td>\n",
       "      <td>C=CC(=O)Oc1ccccc1C(C)(C)C</td>\n",
       "      <td>345</td>\n",
       "      <td>&lt;rdkit.Chem.rdchem.Mol object at 0x000001C2DCE...</td>\n",
       "      <td>204.269</td>\n",
       "      <td>80</td>\n",
       "      <td>2</td>\n",
       "      <td>26.3</td>\n",
       "      <td>0.423071</td>\n",
       "      <td>12.059739</td>\n",
       "      <td>-3.934860</td>\n",
       "      <td>1</td>\n",
       "    </tr>\n",
       "    <tr>\n",
       "      <th>4</th>\n",
       "      <td>Poly(4-tertbutylphenyl acrylate)</td>\n",
       "      <td>C=CC(=O)Oc1ccc(C(C)(C)C)cc1</td>\n",
       "      <td>344</td>\n",
       "      <td>&lt;rdkit.Chem.rdchem.Mol object at 0x000001C2DCE...</td>\n",
       "      <td>204.269</td>\n",
       "      <td>80</td>\n",
       "      <td>2</td>\n",
       "      <td>26.3</td>\n",
       "      <td>0.423390</td>\n",
       "      <td>11.773838</td>\n",
       "      <td>-3.852581</td>\n",
       "      <td>1</td>\n",
       "    </tr>\n",
       "    <tr>\n",
       "      <th>...</th>\n",
       "      <td>...</td>\n",
       "      <td>...</td>\n",
       "      <td>...</td>\n",
       "      <td>...</td>\n",
       "      <td>...</td>\n",
       "      <td>...</td>\n",
       "      <td>...</td>\n",
       "      <td>...</td>\n",
       "      <td>...</td>\n",
       "      <td>...</td>\n",
       "      <td>...</td>\n",
       "      <td>...</td>\n",
       "    </tr>\n",
       "    <tr>\n",
       "      <th>346</th>\n",
       "      <td>Poly(4-chlorostyrene)</td>\n",
       "      <td>C=Cc1ccc(cc1)Cl</td>\n",
       "      <td>398</td>\n",
       "      <td>&lt;rdkit.Chem.rdchem.Mol object at 0x000001C2DDE...</td>\n",
       "      <td>138.597</td>\n",
       "      <td>46</td>\n",
       "      <td>1</td>\n",
       "      <td>0.0</td>\n",
       "      <td>0.098470</td>\n",
       "      <td>7.501296</td>\n",
       "      <td>-0.872109</td>\n",
       "      <td>1</td>\n",
       "    </tr>\n",
       "    <tr>\n",
       "      <th>347</th>\n",
       "      <td>Poly(2-chlorostyrene)</td>\n",
       "      <td>C=Cc1ccccc1Cl</td>\n",
       "      <td>395</td>\n",
       "      <td>&lt;rdkit.Chem.rdchem.Mol object at 0x000001C2DDE...</td>\n",
       "      <td>138.597</td>\n",
       "      <td>46</td>\n",
       "      <td>1</td>\n",
       "      <td>0.0</td>\n",
       "      <td>0.098417</td>\n",
       "      <td>7.501296</td>\n",
       "      <td>-0.854694</td>\n",
       "      <td>1</td>\n",
       "    </tr>\n",
       "    <tr>\n",
       "      <th>348</th>\n",
       "      <td>Poly(4-bromostyrene)</td>\n",
       "      <td>C=Cc1ccc(cc1)Br</td>\n",
       "      <td>411</td>\n",
       "      <td>&lt;rdkit.Chem.rdchem.Mol object at 0x000001C2DDE...</td>\n",
       "      <td>183.048</td>\n",
       "      <td>46</td>\n",
       "      <td>1</td>\n",
       "      <td>0.0</td>\n",
       "      <td>0.098470</td>\n",
       "      <td>7.555741</td>\n",
       "      <td>-0.844331</td>\n",
       "      <td>1</td>\n",
       "    </tr>\n",
       "    <tr>\n",
       "      <th>349</th>\n",
       "      <td>Poly(vinyl chloride)</td>\n",
       "      <td>ClC=C</td>\n",
       "      <td>350</td>\n",
       "      <td>&lt;rdkit.Chem.rdchem.Mol object at 0x000001C2DDE...</td>\n",
       "      <td>62.499</td>\n",
       "      <td>18</td>\n",
       "      <td>0</td>\n",
       "      <td>0.0</td>\n",
       "      <td>0.093598</td>\n",
       "      <td>6.302469</td>\n",
       "      <td>-0.641975</td>\n",
       "      <td>0</td>\n",
       "    </tr>\n",
       "    <tr>\n",
       "      <th>350</th>\n",
       "      <td>Poly(vinylidene chloride)</td>\n",
       "      <td>ClC(=C)Cl</td>\n",
       "      <td>270</td>\n",
       "      <td>&lt;rdkit.Chem.rdchem.Mol object at 0x000001C2DDE...</td>\n",
       "      <td>96.944</td>\n",
       "      <td>24</td>\n",
       "      <td>0</td>\n",
       "      <td>0.0</td>\n",
       "      <td>0.099184</td>\n",
       "      <td>6.314815</td>\n",
       "      <td>-0.543210</td>\n",
       "      <td>0</td>\n",
       "    </tr>\n",
       "  </tbody>\n",
       "</table>\n",
       "<p>351 rows × 12 columns</p>\n",
       "</div>"
      ],
      "text/plain": [
       "                         Nomenclature                       SMILES   Tg  \\\n",
       "0           Poly(4-biphenyl acrylate)  C=CC(=O)Oc2ccc(c1ccccc1)cc2  383   \n",
       "1                Poly(butyl acrylate)                CCCCOC(=O)C=C  219   \n",
       "2            Poly(sec-butyl acrylate)              CC(OC(=O)C=C)CC  250   \n",
       "3    Poly(2-tertbutylphenyl acrylate)    C=CC(=O)Oc1ccccc1C(C)(C)C  345   \n",
       "4    Poly(4-tertbutylphenyl acrylate)  C=CC(=O)Oc1ccc(C(C)(C)C)cc1  344   \n",
       "..                                ...                          ...  ...   \n",
       "346             Poly(4-chlorostyrene)              C=Cc1ccc(cc1)Cl  398   \n",
       "347             Poly(2-chlorostyrene)                C=Cc1ccccc1Cl  395   \n",
       "348              Poly(4-bromostyrene)              C=Cc1ccc(cc1)Br  411   \n",
       "349              Poly(vinyl chloride)                        ClC=C  350   \n",
       "350         Poly(vinylidene chloride)                    ClC(=C)Cl  270   \n",
       "\n",
       "                                                   mol  Peso Molecular  \\\n",
       "0    <rdkit.Chem.rdchem.Mol object at 0x000001C2DCE...         224.259   \n",
       "1    <rdkit.Chem.rdchem.Mol object at 0x000001C2DCE...         128.171   \n",
       "2    <rdkit.Chem.rdchem.Mol object at 0x000001C2DCE...         128.171   \n",
       "3    <rdkit.Chem.rdchem.Mol object at 0x000001C2DCE...         204.269   \n",
       "4    <rdkit.Chem.rdchem.Mol object at 0x000001C2DCE...         204.269   \n",
       "..                                                 ...             ...   \n",
       "346  <rdkit.Chem.rdchem.Mol object at 0x000001C2DDE...         138.597   \n",
       "347  <rdkit.Chem.rdchem.Mol object at 0x000001C2DDE...         138.597   \n",
       "348  <rdkit.Chem.rdchem.Mol object at 0x000001C2DDE...         183.048   \n",
       "349  <rdkit.Chem.rdchem.Mol object at 0x000001C2DDE...          62.499   \n",
       "350  <rdkit.Chem.rdchem.Mol object at 0x000001C2DDE...          96.944   \n",
       "\n",
       "     EValencia  Rotables  TPSA  CParcial      EEmax     EEmin  AAromaticos  \n",
       "0           84         3  26.3  0.423390  11.743743 -1.540408            2  \n",
       "1           52         5  26.3  0.462546  11.246086 -3.786302            0  \n",
       "2           52         5  26.3  0.459541  11.392472 -3.843171            0  \n",
       "3           80         2  26.3  0.423071  12.059739 -3.934860            1  \n",
       "4           80         2  26.3  0.423390  11.773838 -3.852581            1  \n",
       "..         ...       ...   ...       ...        ...       ...          ...  \n",
       "346         46         1   0.0  0.098470   7.501296 -0.872109            1  \n",
       "347         46         1   0.0  0.098417   7.501296 -0.854694            1  \n",
       "348         46         1   0.0  0.098470   7.555741 -0.844331            1  \n",
       "349         18         0   0.0  0.093598   6.302469 -0.641975            0  \n",
       "350         24         0   0.0  0.099184   6.314815 -0.543210            0  \n",
       "\n",
       "[351 rows x 12 columns]"
      ]
     },
     "execution_count": 4,
     "metadata": {},
     "output_type": "execute_result"
    }
   ],
   "source": [
    "datos"
   ]
  },
  {
   "cell_type": "code",
   "execution_count": 5,
   "id": "7ca2307c",
   "metadata": {},
   "outputs": [],
   "source": [
    "#datos_M contiene los 8 input, \n",
    "datos_M = datos[['Peso Molecular','EValencia','Rotables', 'TPSA', 'CParcial', 'EEmax', 'EEmin', 'AAromaticos', 'Tg']] "
   ]
  },
  {
   "cell_type": "code",
   "execution_count": 6,
   "id": "275fc171",
   "metadata": {},
   "outputs": [
    {
     "data": {
      "text/html": [
       "<div>\n",
       "<style scoped>\n",
       "    .dataframe tbody tr th:only-of-type {\n",
       "        vertical-align: middle;\n",
       "    }\n",
       "\n",
       "    .dataframe tbody tr th {\n",
       "        vertical-align: top;\n",
       "    }\n",
       "\n",
       "    .dataframe thead th {\n",
       "        text-align: right;\n",
       "    }\n",
       "</style>\n",
       "<table border=\"1\" class=\"dataframe\">\n",
       "  <thead>\n",
       "    <tr style=\"text-align: right;\">\n",
       "      <th></th>\n",
       "      <th>Peso Molecular</th>\n",
       "      <th>EValencia</th>\n",
       "      <th>Rotables</th>\n",
       "      <th>TPSA</th>\n",
       "      <th>CParcial</th>\n",
       "      <th>EEmax</th>\n",
       "      <th>EEmin</th>\n",
       "      <th>AAromaticos</th>\n",
       "      <th>Tg</th>\n",
       "    </tr>\n",
       "  </thead>\n",
       "  <tbody>\n",
       "    <tr>\n",
       "      <th>0</th>\n",
       "      <td>224.259</td>\n",
       "      <td>84</td>\n",
       "      <td>3</td>\n",
       "      <td>26.3</td>\n",
       "      <td>0.423390</td>\n",
       "      <td>11.743743</td>\n",
       "      <td>-1.540408</td>\n",
       "      <td>2</td>\n",
       "      <td>383</td>\n",
       "    </tr>\n",
       "    <tr>\n",
       "      <th>1</th>\n",
       "      <td>128.171</td>\n",
       "      <td>52</td>\n",
       "      <td>5</td>\n",
       "      <td>26.3</td>\n",
       "      <td>0.462546</td>\n",
       "      <td>11.246086</td>\n",
       "      <td>-3.786302</td>\n",
       "      <td>0</td>\n",
       "      <td>219</td>\n",
       "    </tr>\n",
       "    <tr>\n",
       "      <th>2</th>\n",
       "      <td>128.171</td>\n",
       "      <td>52</td>\n",
       "      <td>5</td>\n",
       "      <td>26.3</td>\n",
       "      <td>0.459541</td>\n",
       "      <td>11.392472</td>\n",
       "      <td>-3.843171</td>\n",
       "      <td>0</td>\n",
       "      <td>250</td>\n",
       "    </tr>\n",
       "    <tr>\n",
       "      <th>3</th>\n",
       "      <td>204.269</td>\n",
       "      <td>80</td>\n",
       "      <td>2</td>\n",
       "      <td>26.3</td>\n",
       "      <td>0.423071</td>\n",
       "      <td>12.059739</td>\n",
       "      <td>-3.934860</td>\n",
       "      <td>1</td>\n",
       "      <td>345</td>\n",
       "    </tr>\n",
       "    <tr>\n",
       "      <th>4</th>\n",
       "      <td>204.269</td>\n",
       "      <td>80</td>\n",
       "      <td>2</td>\n",
       "      <td>26.3</td>\n",
       "      <td>0.423390</td>\n",
       "      <td>11.773838</td>\n",
       "      <td>-3.852581</td>\n",
       "      <td>1</td>\n",
       "      <td>344</td>\n",
       "    </tr>\n",
       "    <tr>\n",
       "      <th>...</th>\n",
       "      <td>...</td>\n",
       "      <td>...</td>\n",
       "      <td>...</td>\n",
       "      <td>...</td>\n",
       "      <td>...</td>\n",
       "      <td>...</td>\n",
       "      <td>...</td>\n",
       "      <td>...</td>\n",
       "      <td>...</td>\n",
       "    </tr>\n",
       "    <tr>\n",
       "      <th>346</th>\n",
       "      <td>138.597</td>\n",
       "      <td>46</td>\n",
       "      <td>1</td>\n",
       "      <td>0.0</td>\n",
       "      <td>0.098470</td>\n",
       "      <td>7.501296</td>\n",
       "      <td>-0.872109</td>\n",
       "      <td>1</td>\n",
       "      <td>398</td>\n",
       "    </tr>\n",
       "    <tr>\n",
       "      <th>347</th>\n",
       "      <td>138.597</td>\n",
       "      <td>46</td>\n",
       "      <td>1</td>\n",
       "      <td>0.0</td>\n",
       "      <td>0.098417</td>\n",
       "      <td>7.501296</td>\n",
       "      <td>-0.854694</td>\n",
       "      <td>1</td>\n",
       "      <td>395</td>\n",
       "    </tr>\n",
       "    <tr>\n",
       "      <th>348</th>\n",
       "      <td>183.048</td>\n",
       "      <td>46</td>\n",
       "      <td>1</td>\n",
       "      <td>0.0</td>\n",
       "      <td>0.098470</td>\n",
       "      <td>7.555741</td>\n",
       "      <td>-0.844331</td>\n",
       "      <td>1</td>\n",
       "      <td>411</td>\n",
       "    </tr>\n",
       "    <tr>\n",
       "      <th>349</th>\n",
       "      <td>62.499</td>\n",
       "      <td>18</td>\n",
       "      <td>0</td>\n",
       "      <td>0.0</td>\n",
       "      <td>0.093598</td>\n",
       "      <td>6.302469</td>\n",
       "      <td>-0.641975</td>\n",
       "      <td>0</td>\n",
       "      <td>350</td>\n",
       "    </tr>\n",
       "    <tr>\n",
       "      <th>350</th>\n",
       "      <td>96.944</td>\n",
       "      <td>24</td>\n",
       "      <td>0</td>\n",
       "      <td>0.0</td>\n",
       "      <td>0.099184</td>\n",
       "      <td>6.314815</td>\n",
       "      <td>-0.543210</td>\n",
       "      <td>0</td>\n",
       "      <td>270</td>\n",
       "    </tr>\n",
       "  </tbody>\n",
       "</table>\n",
       "<p>351 rows × 9 columns</p>\n",
       "</div>"
      ],
      "text/plain": [
       "     Peso Molecular  EValencia  Rotables  TPSA  CParcial      EEmax     EEmin  \\\n",
       "0           224.259         84         3  26.3  0.423390  11.743743 -1.540408   \n",
       "1           128.171         52         5  26.3  0.462546  11.246086 -3.786302   \n",
       "2           128.171         52         5  26.3  0.459541  11.392472 -3.843171   \n",
       "3           204.269         80         2  26.3  0.423071  12.059739 -3.934860   \n",
       "4           204.269         80         2  26.3  0.423390  11.773838 -3.852581   \n",
       "..              ...        ...       ...   ...       ...        ...       ...   \n",
       "346         138.597         46         1   0.0  0.098470   7.501296 -0.872109   \n",
       "347         138.597         46         1   0.0  0.098417   7.501296 -0.854694   \n",
       "348         183.048         46         1   0.0  0.098470   7.555741 -0.844331   \n",
       "349          62.499         18         0   0.0  0.093598   6.302469 -0.641975   \n",
       "350          96.944         24         0   0.0  0.099184   6.314815 -0.543210   \n",
       "\n",
       "     AAromaticos   Tg  \n",
       "0              2  383  \n",
       "1              0  219  \n",
       "2              0  250  \n",
       "3              1  345  \n",
       "4              1  344  \n",
       "..           ...  ...  \n",
       "346            1  398  \n",
       "347            1  395  \n",
       "348            1  411  \n",
       "349            0  350  \n",
       "350            0  270  \n",
       "\n",
       "[351 rows x 9 columns]"
      ]
     },
     "execution_count": 6,
     "metadata": {},
     "output_type": "execute_result"
    }
   ],
   "source": [
    "datos_M"
   ]
  },
  {
   "cell_type": "markdown",
   "id": "93e9a268",
   "metadata": {},
   "source": [
    "# De Dataframe a Array"
   ]
  },
  {
   "cell_type": "code",
   "execution_count": 7,
   "id": "634c21f8",
   "metadata": {},
   "outputs": [],
   "source": [
    "# Guardamos los valores de nuestra tablita en la variable dataset\n",
    "valores = datos_M.values"
   ]
  },
  {
   "cell_type": "code",
   "execution_count": 8,
   "id": "0ccd3d22",
   "metadata": {},
   "outputs": [
    {
     "data": {
      "text/plain": [
       "array([[224.259     ,  84.        ,   3.        , ...,  -1.54040829,\n",
       "          2.        , 383.        ],\n",
       "       [128.171     ,  52.        ,   5.        , ...,  -3.78630196,\n",
       "          0.        , 219.        ],\n",
       "       [128.171     ,  52.        ,   5.        , ...,  -3.8431713 ,\n",
       "          0.        , 250.        ],\n",
       "       ...,\n",
       "       [183.048     ,  46.        ,   1.        , ...,  -0.84433107,\n",
       "          1.        , 411.        ],\n",
       "       [ 62.499     ,  18.        ,   0.        , ...,  -0.64197531,\n",
       "          0.        , 350.        ],\n",
       "       [ 96.944     ,  24.        ,   0.        , ...,  -0.54320988,\n",
       "          0.        , 270.        ]])"
      ]
     },
     "execution_count": 8,
     "metadata": {},
     "output_type": "execute_result"
    }
   ],
   "source": [
    "valores"
   ]
  },
  {
   "cell_type": "code",
   "execution_count": 9,
   "id": "649fb083",
   "metadata": {},
   "outputs": [
    {
     "data": {
      "text/plain": [
       "numpy.ndarray"
      ]
     },
     "execution_count": 9,
     "metadata": {},
     "output_type": "execute_result"
    }
   ],
   "source": [
    "type(valores)"
   ]
  },
  {
   "cell_type": "code",
   "execution_count": 10,
   "id": "ee5047e0",
   "metadata": {},
   "outputs": [
    {
     "data": {
      "text/plain": [
       "(351, 9)"
      ]
     },
     "execution_count": 10,
     "metadata": {},
     "output_type": "execute_result"
    }
   ],
   "source": [
    "valores.shape"
   ]
  },
  {
   "cell_type": "code",
   "execution_count": 11,
   "id": "98a028b3",
   "metadata": {},
   "outputs": [],
   "source": [
    "x = valores[:, 0:8]\n",
    "y = valores[:,8]"
   ]
  },
  {
   "cell_type": "code",
   "execution_count": 12,
   "id": "48513f7a",
   "metadata": {},
   "outputs": [],
   "source": [
    "y = np.reshape(y, (-1,1))"
   ]
  },
  {
   "cell_type": "code",
   "execution_count": 13,
   "id": "df21b996",
   "metadata": {},
   "outputs": [
    {
     "data": {
      "text/plain": [
       "((351, 8), (351, 1))"
      ]
     },
     "execution_count": 13,
     "metadata": {},
     "output_type": "execute_result"
    }
   ],
   "source": [
    "x.shape, y.shape"
   ]
  },
  {
   "cell_type": "markdown",
   "id": "be49e5bd",
   "metadata": {},
   "source": [
    "# Datos escalados "
   ]
  },
  {
   "cell_type": "code",
   "execution_count": 14,
   "id": "6fff6eae",
   "metadata": {},
   "outputs": [],
   "source": [
    "scaler_x = MinMaxScaler()\n",
    "scaler_y = MinMaxScaler()"
   ]
  },
  {
   "cell_type": "code",
   "execution_count": 15,
   "id": "4eee3657",
   "metadata": {},
   "outputs": [
    {
     "name": "stdout",
     "output_type": "stream",
     "text": [
      "MinMaxScaler()\n",
      "MinMaxScaler()\n"
     ]
    }
   ],
   "source": [
    "# Escalar/Normalizar los datos de las x\n",
    "print(scaler_x.fit(x))\n",
    "xscale = scaler_x.transform(x)\n",
    "\n",
    "# Escalar/Normalizar los datos de las y\n",
    "print(scaler_y.fit(y))\n",
    "yscale = scaler_y.transform(y)"
   ]
  },
  {
   "cell_type": "code",
   "execution_count": 16,
   "id": "c969c04e",
   "metadata": {},
   "outputs": [
    {
     "data": {
      "text/plain": [
       "array([[224.259     ,  84.        ,   3.        , ...,  11.74374286,\n",
       "         -1.54040829,   2.        ],\n",
       "       [128.171     ,  52.        ,   5.        , ...,  11.24608607,\n",
       "         -3.78630196,   0.        ],\n",
       "       [128.171     ,  52.        ,   5.        , ...,  11.39247213,\n",
       "         -3.8431713 ,   0.        ],\n",
       "       ...,\n",
       "       [183.048     ,  46.        ,   1.        , ...,   7.55574074,\n",
       "         -0.84433107,   1.        ],\n",
       "       [ 62.499     ,  18.        ,   0.        , ...,   6.30246914,\n",
       "         -0.64197531,   0.        ],\n",
       "       [ 96.944     ,  24.        ,   0.        , ...,   6.31481482,\n",
       "         -0.54320988,   0.        ]])"
      ]
     },
     "execution_count": 16,
     "metadata": {},
     "output_type": "execute_result"
    }
   ],
   "source": [
    "x"
   ]
  },
  {
   "cell_type": "code",
   "execution_count": 17,
   "id": "91bc1be4",
   "metadata": {},
   "outputs": [
    {
     "data": {
      "text/plain": [
       "array([[0.3851779 , 0.41860465, 0.11111111, ..., 0.73691639, 0.81648005,\n",
       "        0.5       ],\n",
       "       [0.1965437 , 0.23255814, 0.18518519, ..., 0.67071984, 0.53678471,\n",
       "        0.        ],\n",
       "       [0.1965437 , 0.23255814, 0.18518519, ..., 0.6901916 , 0.52970241,\n",
       "        0.        ],\n",
       "       ...,\n",
       "       [0.30427493, 0.19767442, 0.03703704, ..., 0.17984318, 0.90316695,\n",
       "        0.25      ],\n",
       "       [0.06762036, 0.03488372, 0.        , ..., 0.01313743, 0.92836759,\n",
       "        0.        ],\n",
       "       [0.13524072, 0.06976744, 0.        , ..., 0.01477961, 0.94066747,\n",
       "        0.        ]])"
      ]
     },
     "execution_count": 17,
     "metadata": {},
     "output_type": "execute_result"
    }
   ],
   "source": [
    "xscale"
   ]
  },
  {
   "cell_type": "markdown",
   "id": "d5d081da",
   "metadata": {},
   "source": [
    "# Entrenar modelo "
   ]
  },
  {
   "cell_type": "markdown",
   "id": "aa4f0ef7",
   "metadata": {},
   "source": [
    "# Datos "
   ]
  },
  {
   "cell_type": "code",
   "execution_count": 18,
   "id": "ba014e1b",
   "metadata": {},
   "outputs": [],
   "source": [
    "X_train, X_test, y_train, y_test = train_test_split(xscale, yscale)"
   ]
  },
  {
   "cell_type": "markdown",
   "id": "6b38d70f",
   "metadata": {},
   "source": [
    "# Características del modelo\n",
    "\n",
    "*8 variables de entrada\n",
    "\n",
    "*2 capas ocultas de 12 y 8 neuronas\n",
    "\n",
    "*1 capa de salida \n",
    "\n",
    "*MSE y MAE son nustras funciones de pérdida"
   ]
  },
  {
   "cell_type": "code",
   "execution_count": 19,
   "id": "00ce9336",
   "metadata": {},
   "outputs": [
    {
     "data": {
      "text/plain": [
       "<bound method Model.summary of <tensorflow.python.keras.engine.sequential.Sequential object at 0x00000258244E8670>>"
      ]
     },
     "execution_count": 19,
     "metadata": {},
     "output_type": "execute_result"
    }
   ],
   "source": [
    "model = Sequential()\n",
    "\n",
    "model.add(Dense(12, input_dim = 8, kernel_initializer = 'normal', activation = 'relu'))\n",
    "model.add(Dense(8, activation='relu'))\n",
    "model.add(Dense(1, activation='linear'))\n",
    "\n",
    "model.summary"
   ]
  },
  {
   "cell_type": "code",
   "execution_count": 20,
   "id": "c67418b9",
   "metadata": {},
   "outputs": [],
   "source": [
    "model.compile(loss='mse', optimizer='adam', metrics = ['mse','mae'])"
   ]
  },
  {
   "cell_type": "markdown",
   "id": "0bac315a",
   "metadata": {},
   "source": [
    "# Entrenando modelo"
   ]
  },
  {
   "cell_type": "code",
   "execution_count": 21,
   "id": "741ab99c",
   "metadata": {},
   "outputs": [
    {
     "name": "stdout",
     "output_type": "stream",
     "text": [
      "Epoch 1/150\n",
      "5/5 [==============================] - 3s 99ms/step - loss: 0.1442 - mse: 0.1442 - mae: 0.3221 - val_loss: 0.1082 - val_mse: 0.1082 - val_mae: 0.2817\n",
      "Epoch 2/150\n",
      "5/5 [==============================] - 0s 18ms/step - loss: 0.1152 - mse: 0.1152 - mae: 0.2754 - val_loss: 0.0852 - val_mse: 0.0852 - val_mae: 0.2406\n",
      "Epoch 3/150\n",
      "5/5 [==============================] - 0s 16ms/step - loss: 0.0906 - mse: 0.0906 - mae: 0.2374 - val_loss: 0.0672 - val_mse: 0.0672 - val_mae: 0.2131\n",
      "Epoch 4/150\n",
      "5/5 [==============================] - 0s 13ms/step - loss: 0.0722 - mse: 0.0722 - mae: 0.2116 - val_loss: 0.0521 - val_mse: 0.0521 - val_mae: 0.1894\n",
      "Epoch 5/150\n",
      "5/5 [==============================] - 0s 14ms/step - loss: 0.0572 - mse: 0.0572 - mae: 0.1912 - val_loss: 0.0406 - val_mse: 0.0406 - val_mae: 0.1692\n",
      "Epoch 6/150\n",
      "5/5 [==============================] - 0s 13ms/step - loss: 0.0456 - mse: 0.0456 - mae: 0.1765 - val_loss: 0.0341 - val_mse: 0.0341 - val_mae: 0.1567\n",
      "Epoch 7/150\n",
      "5/5 [==============================] - ETA: 0s - loss: 0.0307 - mse: 0.0307 - mae: 0.140 - 0s 14ms/step - loss: 0.0402 - mse: 0.0402 - mae: 0.1694 - val_loss: 0.0319 - val_mse: 0.0319 - val_mae: 0.1530\n",
      "Epoch 8/150\n",
      "5/5 [==============================] - 0s 14ms/step - loss: 0.0384 - mse: 0.0384 - mae: 0.1681 - val_loss: 0.0319 - val_mse: 0.0319 - val_mae: 0.1544\n",
      "Epoch 9/150\n",
      "5/5 [==============================] - 0s 14ms/step - loss: 0.0384 - mse: 0.0384 - mae: 0.1687 - val_loss: 0.0322 - val_mse: 0.0322 - val_mae: 0.1549\n",
      "Epoch 10/150\n",
      "5/5 [==============================] - 0s 15ms/step - loss: 0.0382 - mse: 0.0382 - mae: 0.1685 - val_loss: 0.0319 - val_mse: 0.0319 - val_mae: 0.1539\n",
      "Epoch 11/150\n",
      "5/5 [==============================] - 0s 15ms/step - loss: 0.0376 - mse: 0.0376 - mae: 0.1671 - val_loss: 0.0308 - val_mse: 0.0308 - val_mae: 0.1517\n",
      "Epoch 12/150\n",
      "5/5 [==============================] - 0s 14ms/step - loss: 0.0365 - mse: 0.0365 - mae: 0.1645 - val_loss: 0.0295 - val_mse: 0.0295 - val_mae: 0.1489\n",
      "Epoch 13/150\n",
      "5/5 [==============================] - 0s 14ms/step - loss: 0.0353 - mse: 0.0353 - mae: 0.1619 - val_loss: 0.0284 - val_mse: 0.0284 - val_mae: 0.1457\n",
      "Epoch 14/150\n",
      "5/5 [==============================] - 0s 16ms/step - loss: 0.0341 - mse: 0.0341 - mae: 0.1583 - val_loss: 0.0275 - val_mse: 0.0275 - val_mae: 0.1430\n",
      "Epoch 15/150\n",
      "5/5 [==============================] - 0s 14ms/step - loss: 0.0333 - mse: 0.0333 - mae: 0.1557 - val_loss: 0.0269 - val_mse: 0.0269 - val_mae: 0.1408\n",
      "Epoch 16/150\n",
      "5/5 [==============================] - 0s 14ms/step - loss: 0.0328 - mse: 0.0328 - mae: 0.1541 - val_loss: 0.0262 - val_mse: 0.0262 - val_mae: 0.1388\n",
      "Epoch 17/150\n",
      "5/5 [==============================] - 0s 17ms/step - loss: 0.0320 - mse: 0.0320 - mae: 0.1523 - val_loss: 0.0255 - val_mse: 0.0255 - val_mae: 0.1374\n",
      "Epoch 18/150\n",
      "5/5 [==============================] - 0s 14ms/step - loss: 0.0313 - mse: 0.0313 - mae: 0.1507 - val_loss: 0.0249 - val_mse: 0.0249 - val_mae: 0.1363\n",
      "Epoch 19/150\n",
      "5/5 [==============================] - 0s 14ms/step - loss: 0.0303 - mse: 0.0303 - mae: 0.1487 - val_loss: 0.0241 - val_mse: 0.0241 - val_mae: 0.1340\n",
      "Epoch 20/150\n",
      "5/5 [==============================] - 0s 14ms/step - loss: 0.0295 - mse: 0.0295 - mae: 0.1466 - val_loss: 0.0233 - val_mse: 0.0233 - val_mae: 0.1319\n",
      "Epoch 21/150\n",
      "5/5 [==============================] - 0s 16ms/step - loss: 0.0288 - mse: 0.0288 - mae: 0.1446 - val_loss: 0.0226 - val_mse: 0.0226 - val_mae: 0.1296\n",
      "Epoch 22/150\n",
      "5/5 [==============================] - 0s 14ms/step - loss: 0.0280 - mse: 0.0280 - mae: 0.1428 - val_loss: 0.0219 - val_mse: 0.0219 - val_mae: 0.1275\n",
      "Epoch 23/150\n",
      "5/5 [==============================] - 0s 14ms/step - loss: 0.0275 - mse: 0.0275 - mae: 0.1412 - val_loss: 0.0214 - val_mse: 0.0214 - val_mae: 0.1258\n",
      "Epoch 24/150\n",
      "5/5 [==============================] - 0s 16ms/step - loss: 0.0269 - mse: 0.0269 - mae: 0.1394 - val_loss: 0.0206 - val_mse: 0.0206 - val_mae: 0.1233\n",
      "Epoch 25/150\n",
      "5/5 [==============================] - 0s 16ms/step - loss: 0.0261 - mse: 0.0261 - mae: 0.1368 - val_loss: 0.0194 - val_mse: 0.0194 - val_mae: 0.1191\n",
      "Epoch 26/150\n",
      "5/5 [==============================] - 0s 14ms/step - loss: 0.0257 - mse: 0.0257 - mae: 0.1358 - val_loss: 0.0187 - val_mse: 0.0187 - val_mae: 0.1153\n",
      "Epoch 27/150\n",
      "5/5 [==============================] - 0s 14ms/step - loss: 0.0256 - mse: 0.0256 - mae: 0.1346 - val_loss: 0.0181 - val_mse: 0.0181 - val_mae: 0.1124\n",
      "Epoch 28/150\n",
      "5/5 [==============================] - 0s 16ms/step - loss: 0.0248 - mse: 0.0248 - mae: 0.1322 - val_loss: 0.0175 - val_mse: 0.0175 - val_mae: 0.1111\n",
      "Epoch 29/150\n",
      "5/5 [==============================] - 0s 14ms/step - loss: 0.0236 - mse: 0.0236 - mae: 0.1290 - val_loss: 0.0180 - val_mse: 0.0180 - val_mae: 0.1129\n",
      "Epoch 30/150\n",
      "5/5 [==============================] - 0s 14ms/step - loss: 0.0235 - mse: 0.0235 - mae: 0.1291 - val_loss: 0.0181 - val_mse: 0.0181 - val_mae: 0.1129\n",
      "Epoch 31/150\n",
      "5/5 [==============================] - 0s 16ms/step - loss: 0.0230 - mse: 0.0230 - mae: 0.1275 - val_loss: 0.0167 - val_mse: 0.0167 - val_mae: 0.1084\n",
      "Epoch 32/150\n",
      "5/5 [==============================] - 0s 14ms/step - loss: 0.0222 - mse: 0.0222 - mae: 0.1245 - val_loss: 0.0155 - val_mse: 0.0155 - val_mae: 0.1021\n",
      "Epoch 33/150\n",
      "5/5 [==============================] - 0s 14ms/step - loss: 0.0219 - mse: 0.0219 - mae: 0.1219 - val_loss: 0.0151 - val_mse: 0.0151 - val_mae: 0.1008\n",
      "Epoch 34/150\n",
      "5/5 [==============================] - 0s 16ms/step - loss: 0.0216 - mse: 0.0216 - mae: 0.1216 - val_loss: 0.0152 - val_mse: 0.0152 - val_mae: 0.1022\n",
      "Epoch 35/150\n",
      "5/5 [==============================] - 0s 15ms/step - loss: 0.0211 - mse: 0.0211 - mae: 0.1201 - val_loss: 0.0148 - val_mse: 0.0148 - val_mae: 0.1001\n",
      "Epoch 36/150\n",
      "5/5 [==============================] - 0s 14ms/step - loss: 0.0209 - mse: 0.0209 - mae: 0.1192 - val_loss: 0.0147 - val_mse: 0.0147 - val_mae: 0.0999\n",
      "Epoch 37/150\n",
      "5/5 [==============================] - 0s 15ms/step - loss: 0.0207 - mse: 0.0207 - mae: 0.1174 - val_loss: 0.0138 - val_mse: 0.0138 - val_mae: 0.0953\n",
      "Epoch 38/150\n",
      "5/5 [==============================] - 0s 14ms/step - loss: 0.0205 - mse: 0.0205 - mae: 0.1153 - val_loss: 0.0136 - val_mse: 0.0136 - val_mae: 0.0955\n",
      "Epoch 39/150\n",
      "5/5 [==============================] - 0s 15ms/step - loss: 0.0204 - mse: 0.0204 - mae: 0.1158 - val_loss: 0.0140 - val_mse: 0.0140 - val_mae: 0.0980\n",
      "Epoch 40/150\n",
      "5/5 [==============================] - 0s 13ms/step - loss: 0.0203 - mse: 0.0203 - mae: 0.1148 - val_loss: 0.0132 - val_mse: 0.0132 - val_mae: 0.0934\n",
      "Epoch 41/150\n",
      "5/5 [==============================] - 0s 18ms/step - loss: 0.0201 - mse: 0.0201 - mae: 0.1131 - val_loss: 0.0130 - val_mse: 0.0130 - val_mae: 0.0924\n",
      "Epoch 42/150\n",
      "5/5 [==============================] - 0s 20ms/step - loss: 0.0200 - mse: 0.0200 - mae: 0.1125 - val_loss: 0.0133 - val_mse: 0.0133 - val_mae: 0.0949\n",
      "Epoch 43/150\n",
      "5/5 [==============================] - 0s 18ms/step - loss: 0.0199 - mse: 0.0199 - mae: 0.1133 - val_loss: 0.0135 - val_mse: 0.0135 - val_mae: 0.0957\n",
      "Epoch 44/150\n",
      "5/5 [==============================] - 0s 20ms/step - loss: 0.0198 - mse: 0.0198 - mae: 0.1128 - val_loss: 0.0129 - val_mse: 0.0129 - val_mae: 0.0924\n",
      "Epoch 45/150\n",
      "5/5 [==============================] - 0s 16ms/step - loss: 0.0198 - mse: 0.0198 - mae: 0.1110 - val_loss: 0.0125 - val_mse: 0.0125 - val_mae: 0.0899\n",
      "Epoch 46/150\n",
      "5/5 [==============================] - 0s 18ms/step - loss: 0.0198 - mse: 0.0198 - mae: 0.1105 - val_loss: 0.0127 - val_mse: 0.0127 - val_mae: 0.0913\n",
      "Epoch 47/150\n",
      "5/5 [==============================] - 0s 16ms/step - loss: 0.0196 - mse: 0.0196 - mae: 0.1104 - val_loss: 0.0128 - val_mse: 0.0128 - val_mae: 0.0920\n",
      "Epoch 48/150\n",
      "5/5 [==============================] - 0s 16ms/step - loss: 0.0196 - mse: 0.0196 - mae: 0.1110 - val_loss: 0.0128 - val_mse: 0.0128 - val_mae: 0.0923\n",
      "Epoch 49/150\n",
      "5/5 [==============================] - 0s 14ms/step - loss: 0.0195 - mse: 0.0195 - mae: 0.1104 - val_loss: 0.0125 - val_mse: 0.0125 - val_mae: 0.0903\n",
      "Epoch 50/150\n",
      "5/5 [==============================] - 0s 15ms/step - loss: 0.0195 - mse: 0.0195 - mae: 0.1096 - val_loss: 0.0125 - val_mse: 0.0125 - val_mae: 0.0901\n"
     ]
    },
    {
     "name": "stdout",
     "output_type": "stream",
     "text": [
      "Epoch 51/150\n",
      "5/5 [==============================] - 0s 13ms/step - loss: 0.0195 - mse: 0.0195 - mae: 0.1097 - val_loss: 0.0126 - val_mse: 0.0126 - val_mae: 0.0908\n",
      "Epoch 52/150\n",
      "5/5 [==============================] - 0s 15ms/step - loss: 0.0194 - mse: 0.0194 - mae: 0.1097 - val_loss: 0.0125 - val_mse: 0.0125 - val_mae: 0.0900\n",
      "Epoch 53/150\n",
      "5/5 [==============================] - 0s 14ms/step - loss: 0.0194 - mse: 0.0194 - mae: 0.1091 - val_loss: 0.0125 - val_mse: 0.0125 - val_mae: 0.0900\n",
      "Epoch 54/150\n",
      "5/5 [==============================] - 0s 14ms/step - loss: 0.0194 - mse: 0.0194 - mae: 0.1097 - val_loss: 0.0128 - val_mse: 0.0128 - val_mae: 0.0918\n",
      "Epoch 55/150\n",
      "5/5 [==============================] - 0s 13ms/step - loss: 0.0195 - mse: 0.0195 - mae: 0.1103 - val_loss: 0.0125 - val_mse: 0.0125 - val_mae: 0.0903\n",
      "Epoch 56/150\n",
      "5/5 [==============================] - 0s 16ms/step - loss: 0.0193 - mse: 0.0193 - mae: 0.1099 - val_loss: 0.0128 - val_mse: 0.0128 - val_mae: 0.0923\n",
      "Epoch 57/150\n",
      "5/5 [==============================] - 0s 15ms/step - loss: 0.0194 - mse: 0.0194 - mae: 0.1109 - val_loss: 0.0127 - val_mse: 0.0127 - val_mae: 0.0915\n",
      "Epoch 58/150\n",
      "5/5 [==============================] - 0s 12ms/step - loss: 0.0195 - mse: 0.0195 - mae: 0.1098 - val_loss: 0.0122 - val_mse: 0.0122 - val_mae: 0.0891\n",
      "Epoch 59/150\n",
      "5/5 [==============================] - 0s 14ms/step - loss: 0.0193 - mse: 0.0193 - mae: 0.1090 - val_loss: 0.0124 - val_mse: 0.0124 - val_mae: 0.0898\n",
      "Epoch 60/150\n",
      "5/5 [==============================] - 0s 16ms/step - loss: 0.0192 - mse: 0.0192 - mae: 0.1093 - val_loss: 0.0125 - val_mse: 0.0125 - val_mae: 0.0900\n",
      "Epoch 61/150\n",
      "5/5 [==============================] - 0s 14ms/step - loss: 0.0192 - mse: 0.0192 - mae: 0.1098 - val_loss: 0.0127 - val_mse: 0.0127 - val_mae: 0.0912\n",
      "Epoch 62/150\n",
      "5/5 [==============================] - 0s 14ms/step - loss: 0.0192 - mse: 0.0192 - mae: 0.1100 - val_loss: 0.0125 - val_mse: 0.0125 - val_mae: 0.0902\n",
      "Epoch 63/150\n",
      "5/5 [==============================] - 0s 16ms/step - loss: 0.0192 - mse: 0.0192 - mae: 0.1086 - val_loss: 0.0122 - val_mse: 0.0122 - val_mae: 0.0885\n",
      "Epoch 64/150\n",
      "5/5 [==============================] - 0s 15ms/step - loss: 0.0192 - mse: 0.0192 - mae: 0.1078 - val_loss: 0.0121 - val_mse: 0.0121 - val_mae: 0.0884\n",
      "Epoch 65/150\n",
      "5/5 [==============================] - 0s 13ms/step - loss: 0.0192 - mse: 0.0192 - mae: 0.1077 - val_loss: 0.0121 - val_mse: 0.0121 - val_mae: 0.0883\n",
      "Epoch 66/150\n",
      "5/5 [==============================] - 0s 14ms/step - loss: 0.0190 - mse: 0.0190 - mae: 0.1079 - val_loss: 0.0124 - val_mse: 0.0124 - val_mae: 0.0902\n",
      "Epoch 67/150\n",
      "5/5 [==============================] - 0s 14ms/step - loss: 0.0194 - mse: 0.0194 - mae: 0.1107 - val_loss: 0.0128 - val_mse: 0.0128 - val_mae: 0.0931\n",
      "Epoch 68/150\n",
      "5/5 [==============================] - 0s 14ms/step - loss: 0.0191 - mse: 0.0191 - mae: 0.1100 - val_loss: 0.0120 - val_mse: 0.0120 - val_mae: 0.0882\n",
      "Epoch 69/150\n",
      "5/5 [==============================] - 0s 13ms/step - loss: 0.0191 - mse: 0.0191 - mae: 0.1079 - val_loss: 0.0119 - val_mse: 0.0119 - val_mae: 0.0870\n",
      "Epoch 70/150\n",
      "5/5 [==============================] - 0s 15ms/step - loss: 0.0192 - mse: 0.0192 - mae: 0.1072 - val_loss: 0.0119 - val_mse: 0.0119 - val_mae: 0.0872\n",
      "Epoch 71/150\n",
      "5/5 [==============================] - 0s 14ms/step - loss: 0.0189 - mse: 0.0189 - mae: 0.1080 - val_loss: 0.0124 - val_mse: 0.0124 - val_mae: 0.0908\n",
      "Epoch 72/150\n",
      "5/5 [==============================] - 0s 14ms/step - loss: 0.0190 - mse: 0.0190 - mae: 0.1090 - val_loss: 0.0120 - val_mse: 0.0120 - val_mae: 0.0879\n",
      "Epoch 73/150\n",
      "5/5 [==============================] - 0s 15ms/step - loss: 0.0190 - mse: 0.0190 - mae: 0.1077 - val_loss: 0.0118 - val_mse: 0.0118 - val_mae: 0.0869\n",
      "Epoch 74/150\n",
      "5/5 [==============================] - ETA: 0s - loss: 0.0109 - mse: 0.0109 - mae: 0.084 - 0s 13ms/step - loss: 0.0188 - mse: 0.0188 - mae: 0.1077 - val_loss: 0.0124 - val_mse: 0.0124 - val_mae: 0.0914\n",
      "Epoch 75/150\n",
      "5/5 [==============================] - 0s 14ms/step - loss: 0.0191 - mse: 0.0191 - mae: 0.1099 - val_loss: 0.0123 - val_mse: 0.0123 - val_mae: 0.0905\n",
      "Epoch 76/150\n",
      "5/5 [==============================] - 0s 14ms/step - loss: 0.0188 - mse: 0.0188 - mae: 0.1088 - val_loss: 0.0118 - val_mse: 0.0118 - val_mae: 0.0867\n",
      "Epoch 77/150\n",
      "5/5 [==============================] - 0s 14ms/step - loss: 0.0189 - mse: 0.0189 - mae: 0.1074 - val_loss: 0.0117 - val_mse: 0.0117 - val_mae: 0.0861\n",
      "Epoch 78/150\n",
      "5/5 [==============================] - 0s 15ms/step - loss: 0.0190 - mse: 0.0190 - mae: 0.1070 - val_loss: 0.0117 - val_mse: 0.0117 - val_mae: 0.0861\n",
      "Epoch 79/150\n",
      "5/5 [==============================] - 0s 15ms/step - loss: 0.0189 - mse: 0.0189 - mae: 0.1071 - val_loss: 0.0119 - val_mse: 0.0119 - val_mae: 0.0877\n",
      "Epoch 80/150\n",
      "5/5 [==============================] - 0s 14ms/step - loss: 0.0188 - mse: 0.0188 - mae: 0.1084 - val_loss: 0.0123 - val_mse: 0.0123 - val_mae: 0.0907\n",
      "Epoch 81/150\n",
      "5/5 [==============================] - 0s 14ms/step - loss: 0.0189 - mse: 0.0189 - mae: 0.1094 - val_loss: 0.0122 - val_mse: 0.0122 - val_mae: 0.0900\n",
      "Epoch 82/150\n",
      "5/5 [==============================] - 0s 14ms/step - loss: 0.0188 - mse: 0.0188 - mae: 0.1074 - val_loss: 0.0117 - val_mse: 0.0117 - val_mae: 0.0865\n",
      "Epoch 83/150\n",
      "5/5 [==============================] - 0s 15ms/step - loss: 0.0188 - mse: 0.0188 - mae: 0.1066 - val_loss: 0.0118 - val_mse: 0.0118 - val_mae: 0.0871\n",
      "Epoch 84/150\n",
      "5/5 [==============================] - 0s 16ms/step - loss: 0.0188 - mse: 0.0188 - mae: 0.1081 - val_loss: 0.0125 - val_mse: 0.0125 - val_mae: 0.0925\n",
      "Epoch 85/150\n",
      "5/5 [==============================] - 0s 16ms/step - loss: 0.0189 - mse: 0.0189 - mae: 0.1102 - val_loss: 0.0129 - val_mse: 0.0129 - val_mae: 0.0949\n",
      "Epoch 86/150\n",
      "5/5 [==============================] - 0s 15ms/step - loss: 0.0188 - mse: 0.0188 - mae: 0.1098 - val_loss: 0.0122 - val_mse: 0.0122 - val_mae: 0.0897\n",
      "Epoch 87/150\n",
      "5/5 [==============================] - 0s 13ms/step - loss: 0.0185 - mse: 0.0185 - mae: 0.1073 - val_loss: 0.0120 - val_mse: 0.0120 - val_mae: 0.0876\n",
      "Epoch 88/150\n",
      "5/5 [==============================] - 0s 15ms/step - loss: 0.0189 - mse: 0.0189 - mae: 0.1068 - val_loss: 0.0120 - val_mse: 0.0120 - val_mae: 0.0875\n",
      "Epoch 89/150\n",
      "5/5 [==============================] - 0s 14ms/step - loss: 0.0187 - mse: 0.0187 - mae: 0.1076 - val_loss: 0.0124 - val_mse: 0.0124 - val_mae: 0.0919\n",
      "Epoch 90/150\n",
      "5/5 [==============================] - 0s 14ms/step - loss: 0.0185 - mse: 0.0185 - mae: 0.1084 - val_loss: 0.0123 - val_mse: 0.0123 - val_mae: 0.0912\n",
      "Epoch 91/150\n",
      "5/5 [==============================] - 0s 14ms/step - loss: 0.0185 - mse: 0.0185 - mae: 0.1073 - val_loss: 0.0121 - val_mse: 0.0121 - val_mae: 0.0882\n",
      "Epoch 92/150\n",
      "5/5 [==============================] - 0s 14ms/step - loss: 0.0184 - mse: 0.0184 - mae: 0.1063 - val_loss: 0.0120 - val_mse: 0.0120 - val_mae: 0.0875\n",
      "Epoch 93/150\n",
      "5/5 [==============================] - 0s 16ms/step - loss: 0.0184 - mse: 0.0184 - mae: 0.1060 - val_loss: 0.0122 - val_mse: 0.0122 - val_mae: 0.0900\n",
      "Epoch 94/150\n",
      "5/5 [==============================] - 0s 13ms/step - loss: 0.0193 - mse: 0.0193 - mae: 0.1121 - val_loss: 0.0137 - val_mse: 0.0137 - val_mae: 0.1000\n",
      "Epoch 95/150\n",
      "5/5 [==============================] - 0s 14ms/step - loss: 0.0188 - mse: 0.0188 - mae: 0.1098 - val_loss: 0.0120 - val_mse: 0.0120 - val_mae: 0.0875\n",
      "Epoch 96/150\n",
      "5/5 [==============================] - 0s 14ms/step - loss: 0.0185 - mse: 0.0185 - mae: 0.1053 - val_loss: 0.0120 - val_mse: 0.0120 - val_mae: 0.0874\n",
      "Epoch 97/150\n",
      "5/5 [==============================] - 0s 14ms/step - loss: 0.0186 - mse: 0.0186 - mae: 0.1049 - val_loss: 0.0120 - val_mse: 0.0120 - val_mae: 0.0877\n",
      "Epoch 98/150\n",
      "5/5 [==============================] - 0s 13ms/step - loss: 0.0182 - mse: 0.0182 - mae: 0.1062 - val_loss: 0.0128 - val_mse: 0.0128 - val_mae: 0.0946\n",
      "Epoch 99/150\n",
      "5/5 [==============================] - 0s 15ms/step - loss: 0.0185 - mse: 0.0185 - mae: 0.1092 - val_loss: 0.0127 - val_mse: 0.0127 - val_mae: 0.0932\n",
      "Epoch 100/150\n",
      "5/5 [==============================] - 0s 14ms/step - loss: 0.0182 - mse: 0.0182 - mae: 0.1065 - val_loss: 0.0120 - val_mse: 0.0120 - val_mae: 0.0877\n"
     ]
    },
    {
     "name": "stdout",
     "output_type": "stream",
     "text": [
      "Epoch 101/150\n",
      "5/5 [==============================] - 0s 14ms/step - loss: 0.0182 - mse: 0.0182 - mae: 0.1047 - val_loss: 0.0120 - val_mse: 0.0120 - val_mae: 0.0872\n",
      "Epoch 102/150\n",
      "5/5 [==============================] - 0s 14ms/step - loss: 0.0182 - mse: 0.0182 - mae: 0.1050 - val_loss: 0.0121 - val_mse: 0.0121 - val_mae: 0.0886\n",
      "Epoch 103/150\n",
      "5/5 [==============================] - 0s 14ms/step - loss: 0.0182 - mse: 0.0182 - mae: 0.1050 - val_loss: 0.0121 - val_mse: 0.0121 - val_mae: 0.0886\n",
      "Epoch 104/150\n",
      "5/5 [==============================] - 0s 13ms/step - loss: 0.0180 - mse: 0.0180 - mae: 0.1058 - val_loss: 0.0128 - val_mse: 0.0128 - val_mae: 0.0953\n",
      "Epoch 105/150\n",
      "5/5 [==============================] - 0s 14ms/step - loss: 0.0183 - mse: 0.0183 - mae: 0.1082 - val_loss: 0.0122 - val_mse: 0.0122 - val_mae: 0.0910\n",
      "Epoch 106/150\n",
      "5/5 [==============================] - 0s 14ms/step - loss: 0.0179 - mse: 0.0179 - mae: 0.1055 - val_loss: 0.0118 - val_mse: 0.0118 - val_mae: 0.0862\n",
      "Epoch 107/150\n",
      "5/5 [==============================] - 0s 14ms/step - loss: 0.0182 - mse: 0.0182 - mae: 0.1041 - val_loss: 0.0119 - val_mse: 0.0119 - val_mae: 0.0859\n",
      "Epoch 108/150\n",
      "5/5 [==============================] - 0s 14ms/step - loss: 0.0180 - mse: 0.0180 - mae: 0.1047 - val_loss: 0.0126 - val_mse: 0.0126 - val_mae: 0.0938\n",
      "Epoch 109/150\n",
      "5/5 [==============================] - 0s 14ms/step - loss: 0.0184 - mse: 0.0184 - mae: 0.1096 - val_loss: 0.0126 - val_mse: 0.0126 - val_mae: 0.0939\n",
      "Epoch 110/150\n",
      "5/5 [==============================] - 0s 14ms/step - loss: 0.0179 - mse: 0.0179 - mae: 0.1059 - val_loss: 0.0119 - val_mse: 0.0119 - val_mae: 0.0869\n",
      "Epoch 111/150\n",
      "5/5 [==============================] - 0s 14ms/step - loss: 0.0181 - mse: 0.0181 - mae: 0.1041 - val_loss: 0.0120 - val_mse: 0.0120 - val_mae: 0.0878\n",
      "Epoch 112/150\n",
      "5/5 [==============================] - 0s 14ms/step - loss: 0.0177 - mse: 0.0177 - mae: 0.1050 - val_loss: 0.0131 - val_mse: 0.0131 - val_mae: 0.0970\n",
      "Epoch 113/150\n",
      "5/5 [==============================] - 0s 16ms/step - loss: 0.0184 - mse: 0.0184 - mae: 0.1102 - val_loss: 0.0127 - val_mse: 0.0127 - val_mae: 0.0943\n",
      "Epoch 114/150\n",
      "5/5 [==============================] - 0s 14ms/step - loss: 0.0177 - mse: 0.0177 - mae: 0.1054 - val_loss: 0.0119 - val_mse: 0.0119 - val_mae: 0.0871\n",
      "Epoch 115/150\n",
      "5/5 [==============================] - 0s 14ms/step - loss: 0.0185 - mse: 0.0185 - mae: 0.1041 - val_loss: 0.0120 - val_mse: 0.0120 - val_mae: 0.0871\n",
      "Epoch 116/150\n",
      "5/5 [==============================] - 0s 14ms/step - loss: 0.0180 - mse: 0.0180 - mae: 0.1036 - val_loss: 0.0121 - val_mse: 0.0121 - val_mae: 0.0899\n",
      "Epoch 117/150\n",
      "5/5 [==============================] - 0s 16ms/step - loss: 0.0178 - mse: 0.0178 - mae: 0.1060 - val_loss: 0.0130 - val_mse: 0.0130 - val_mae: 0.0966\n",
      "Epoch 118/150\n",
      "5/5 [==============================] - 0s 20ms/step - loss: 0.0179 - mse: 0.0179 - mae: 0.1079 - val_loss: 0.0122 - val_mse: 0.0122 - val_mae: 0.0912\n",
      "Epoch 119/150\n",
      "5/5 [==============================] - 0s 20ms/step - loss: 0.0176 - mse: 0.0176 - mae: 0.1033 - val_loss: 0.0118 - val_mse: 0.0118 - val_mae: 0.0866\n",
      "Epoch 120/150\n",
      "5/5 [==============================] - 0s 14ms/step - loss: 0.0181 - mse: 0.0181 - mae: 0.1025 - val_loss: 0.0117 - val_mse: 0.0117 - val_mae: 0.0862\n",
      "Epoch 121/150\n",
      "5/5 [==============================] - 0s 19ms/step - loss: 0.0176 - mse: 0.0176 - mae: 0.1024 - val_loss: 0.0123 - val_mse: 0.0123 - val_mae: 0.0922\n",
      "Epoch 122/150\n",
      "5/5 [==============================] - 0s 18ms/step - loss: 0.0177 - mse: 0.0177 - mae: 0.1066 - val_loss: 0.0124 - val_mse: 0.0124 - val_mae: 0.0929\n",
      "Epoch 123/150\n",
      "5/5 [==============================] - 0s 16ms/step - loss: 0.0176 - mse: 0.0176 - mae: 0.1053 - val_loss: 0.0117 - val_mse: 0.0117 - val_mae: 0.0861\n",
      "Epoch 124/150\n",
      "5/5 [==============================] - 0s 14ms/step - loss: 0.0176 - mse: 0.0176 - mae: 0.1015 - val_loss: 0.0118 - val_mse: 0.0118 - val_mae: 0.0859\n",
      "Epoch 125/150\n",
      "5/5 [==============================] - 0s 14ms/step - loss: 0.0175 - mse: 0.0175 - mae: 0.1017 - val_loss: 0.0121 - val_mse: 0.0121 - val_mae: 0.0906\n",
      "Epoch 126/150\n",
      "5/5 [==============================] - 0s 14ms/step - loss: 0.0181 - mse: 0.0181 - mae: 0.1088 - val_loss: 0.0141 - val_mse: 0.0141 - val_mae: 0.1023\n",
      "Epoch 127/150\n",
      "5/5 [==============================] - 0s 14ms/step - loss: 0.0178 - mse: 0.0178 - mae: 0.1084 - val_loss: 0.0119 - val_mse: 0.0119 - val_mae: 0.0871\n",
      "Epoch 128/150\n",
      "5/5 [==============================] - 0s 17ms/step - loss: 0.0176 - mse: 0.0176 - mae: 0.1018 - val_loss: 0.0119 - val_mse: 0.0119 - val_mae: 0.0863\n",
      "Epoch 129/150\n",
      "5/5 [==============================] - 0s 16ms/step - loss: 0.0175 - mse: 0.0175 - mae: 0.1021 - val_loss: 0.0120 - val_mse: 0.0120 - val_mae: 0.0889\n",
      "Epoch 130/150\n",
      "5/5 [==============================] - 0s 14ms/step - loss: 0.0173 - mse: 0.0173 - mae: 0.1038 - val_loss: 0.0122 - val_mse: 0.0122 - val_mae: 0.0912\n",
      "Epoch 131/150\n",
      "5/5 [==============================] - 0s 14ms/step - loss: 0.0174 - mse: 0.0174 - mae: 0.1047 - val_loss: 0.0122 - val_mse: 0.0122 - val_mae: 0.0905\n",
      "Epoch 132/150\n",
      "5/5 [==============================] - 0s 16ms/step - loss: 0.0171 - mse: 0.0171 - mae: 0.1024 - val_loss: 0.0120 - val_mse: 0.0120 - val_mae: 0.0869\n",
      "Epoch 133/150\n",
      "5/5 [==============================] - 0s 15ms/step - loss: 0.0174 - mse: 0.0174 - mae: 0.1012 - val_loss: 0.0120 - val_mse: 0.0120 - val_mae: 0.0877\n",
      "Epoch 134/150\n",
      "5/5 [==============================] - 0s 14ms/step - loss: 0.0172 - mse: 0.0172 - mae: 0.1028 - val_loss: 0.0125 - val_mse: 0.0125 - val_mae: 0.0933\n",
      "Epoch 135/150\n",
      "5/5 [==============================] - 0s 14ms/step - loss: 0.0174 - mse: 0.0174 - mae: 0.1055 - val_loss: 0.0127 - val_mse: 0.0127 - val_mae: 0.0941\n",
      "Epoch 136/150\n",
      "5/5 [==============================] - 0s 14ms/step - loss: 0.0172 - mse: 0.0172 - mae: 0.1043 - val_loss: 0.0121 - val_mse: 0.0121 - val_mae: 0.0901\n",
      "Epoch 137/150\n",
      "5/5 [==============================] - 0s 16ms/step - loss: 0.0171 - mse: 0.0171 - mae: 0.1020 - val_loss: 0.0120 - val_mse: 0.0120 - val_mae: 0.0882\n",
      "Epoch 138/150\n",
      "5/5 [==============================] - 0s 20ms/step - loss: 0.0170 - mse: 0.0170 - mae: 0.1018 - val_loss: 0.0123 - val_mse: 0.0123 - val_mae: 0.0912\n",
      "Epoch 139/150\n",
      "5/5 [==============================] - 0s 18ms/step - loss: 0.0171 - mse: 0.0171 - mae: 0.1040 - val_loss: 0.0124 - val_mse: 0.0124 - val_mae: 0.0923\n",
      "Epoch 140/150\n",
      "5/5 [==============================] - 0s 18ms/step - loss: 0.0170 - mse: 0.0170 - mae: 0.1029 - val_loss: 0.0118 - val_mse: 0.0118 - val_mae: 0.0873\n",
      "Epoch 141/150\n",
      "5/5 [==============================] - 0s 20ms/step - loss: 0.0171 - mse: 0.0171 - mae: 0.0999 - val_loss: 0.0119 - val_mse: 0.0119 - val_mae: 0.0862\n",
      "Epoch 142/150\n",
      "5/5 [==============================] - 0s 18ms/step - loss: 0.0171 - mse: 0.0171 - mae: 0.1001 - val_loss: 0.0121 - val_mse: 0.0121 - val_mae: 0.0900\n",
      "Epoch 143/150\n",
      "5/5 [==============================] - 0s 18ms/step - loss: 0.0170 - mse: 0.0170 - mae: 0.1035 - val_loss: 0.0125 - val_mse: 0.0125 - val_mae: 0.0927\n",
      "Epoch 144/150\n",
      "5/5 [==============================] - 0s 16ms/step - loss: 0.0170 - mse: 0.0170 - mae: 0.1026 - val_loss: 0.0119 - val_mse: 0.0119 - val_mae: 0.0880\n",
      "Epoch 145/150\n",
      "5/5 [==============================] - 0s 16ms/step - loss: 0.0169 - mse: 0.0169 - mae: 0.1008 - val_loss: 0.0119 - val_mse: 0.0119 - val_mae: 0.0878\n",
      "Epoch 146/150\n",
      "5/5 [==============================] - 0s 16ms/step - loss: 0.0168 - mse: 0.0168 - mae: 0.1010 - val_loss: 0.0119 - val_mse: 0.0119 - val_mae: 0.0887\n",
      "Epoch 147/150\n",
      "5/5 [==============================] - 0s 14ms/step - loss: 0.0168 - mse: 0.0168 - mae: 0.1019 - val_loss: 0.0121 - val_mse: 0.0121 - val_mae: 0.0902\n",
      "Epoch 148/150\n",
      "5/5 [==============================] - 0s 14ms/step - loss: 0.0168 - mse: 0.0168 - mae: 0.1023 - val_loss: 0.0122 - val_mse: 0.0122 - val_mae: 0.0906\n",
      "Epoch 149/150\n",
      "5/5 [==============================] - 0s 14ms/step - loss: 0.0168 - mse: 0.0168 - mae: 0.1026 - val_loss: 0.0123 - val_mse: 0.0123 - val_mae: 0.0916\n",
      "Epoch 150/150\n",
      "5/5 [==============================] - 0s 14ms/step - loss: 0.0167 - mse: 0.0167 - mae: 0.1021 - val_loss: 0.0120 - val_mse: 0.0120 - val_mae: 0.0893\n"
     ]
    }
   ],
   "source": [
    "history = model.fit(X_train, y_train, epochs = 150, batch_size = 50, verbose = 1, validation_split = 0.2)"
   ]
  },
  {
   "cell_type": "code",
   "execution_count": 22,
   "id": "4faa5b7f",
   "metadata": {},
   "outputs": [],
   "source": [
    "#Precisión del modelo"
   ]
  },
  {
   "cell_type": "code",
   "execution_count": 23,
   "id": "f2406d77",
   "metadata": {},
   "outputs": [
    {
     "ename": "NameError",
     "evalue": "name 'y_pred_test' is not defined",
     "output_type": "error",
     "traceback": [
      "\u001b[1;31m---------------------------------------------------------------------------\u001b[0m",
      "\u001b[1;31mNameError\u001b[0m                                 Traceback (most recent call last)",
      "\u001b[1;32m~\\AppData\\Local\\Temp/ipykernel_18896/2962144758.py\u001b[0m in \u001b[0;36m<module>\u001b[1;34m\u001b[0m\n\u001b[1;32m----> 1\u001b[1;33m \u001b[0mplt\u001b[0m\u001b[1;33m.\u001b[0m\u001b[0mscatter\u001b[0m\u001b[1;33m(\u001b[0m\u001b[0my_pred_test\u001b[0m\u001b[1;33m,\u001b[0m \u001b[0my_test\u001b[0m\u001b[1;33m,\u001b[0m \u001b[0malpha\u001b[0m \u001b[1;33m=\u001b[0m \u001b[1;36m0.8\u001b[0m\u001b[1;33m,\u001b[0m \u001b[0mlabel\u001b[0m \u001b[1;33m=\u001b[0m \u001b[1;34m'Test Set'\u001b[0m\u001b[1;33m)\u001b[0m\u001b[1;33m\u001b[0m\u001b[1;33m\u001b[0m\u001b[0m\n\u001b[0m\u001b[0;32m      2\u001b[0m \u001b[0mplt\u001b[0m\u001b[1;33m.\u001b[0m\u001b[0mscatter\u001b[0m\u001b[1;33m(\u001b[0m\u001b[0my_pred_train\u001b[0m\u001b[1;33m,\u001b[0m \u001b[0my_train\u001b[0m\u001b[1;33m,\u001b[0m \u001b[0malpha\u001b[0m \u001b[1;33m=\u001b[0m \u001b[1;36m0.2\u001b[0m\u001b[1;33m,\u001b[0m \u001b[0mlabel\u001b[0m \u001b[1;33m=\u001b[0m \u001b[1;34m'Training Set'\u001b[0m\u001b[1;33m)\u001b[0m\u001b[1;33m\u001b[0m\u001b[1;33m\u001b[0m\u001b[0m\n\u001b[0;32m      3\u001b[0m \u001b[0mplt\u001b[0m\u001b[1;33m.\u001b[0m\u001b[0mlegend\u001b[0m\u001b[1;33m(\u001b[0m\u001b[1;33m)\u001b[0m\u001b[1;33m\u001b[0m\u001b[1;33m\u001b[0m\u001b[0m\n\u001b[0;32m      4\u001b[0m \u001b[1;33m\u001b[0m\u001b[0m\n\u001b[0;32m      5\u001b[0m \u001b[0mplt\u001b[0m\u001b[1;33m.\u001b[0m\u001b[0mtitle\u001b[0m\u001b[1;33m(\u001b[0m\u001b[1;34m'Predictions'\u001b[0m\u001b[1;33m)\u001b[0m\u001b[1;33m\u001b[0m\u001b[1;33m\u001b[0m\u001b[0m\n",
      "\u001b[1;31mNameError\u001b[0m: name 'y_pred_test' is not defined"
     ]
    }
   ],
   "source": [
    "plt.scatter(y_pred_test, y_test, alpha = 0.8, label = 'Test Set')\n",
    "plt.scatter(y_pred_train, y_train, alpha = 0.2, label = 'Training Set')\n",
    "plt.legend()\n",
    "\n",
    "plt.title('Predictions')\n",
    "plt.ylabel('True')\n",
    "plt.xlabel('Predicted')"
   ]
  },
  {
   "cell_type": "markdown",
   "id": "11a7c933",
   "metadata": {},
   "source": [
    "# POLÍMEROS A PARTIR DE ISOBUTILENO Y ÁCIDO LÁCTICO"
   ]
  },
  {
   "cell_type": "code",
   "execution_count": 27,
   "id": "3660eba7",
   "metadata": {},
   "outputs": [],
   "source": [
    "import numpy as np\n",
    "import pandas as pd\n",
    "import rdkit"
   ]
  },
  {
   "cell_type": "code",
   "execution_count": 24,
   "id": "dfa27a9a",
   "metadata": {},
   "outputs": [],
   "source": [
    "from rdkit.Chem import AllChem\n",
    "from rdkit import Chem\n",
    "from rdkit.Chem import Descriptors"
   ]
  },
  {
   "cell_type": "code",
   "execution_count": 25,
   "id": "f77c192f",
   "metadata": {},
   "outputs": [],
   "source": [
    "from rdkit.ML.Descriptors import MoleculeDescriptors\n",
    "import matplotlib.pyplot as plt"
   ]
  },
  {
   "cell_type": "code",
   "execution_count": 26,
   "id": "f281b5de",
   "metadata": {},
   "outputs": [],
   "source": [
    "from mordred import Calculator"
   ]
  },
  {
   "cell_type": "markdown",
   "id": "de2dae23",
   "metadata": {},
   "source": [
    "# Buscar inputs para poder predecir el Tg del Isobutileno y el Ácido Láctico "
   ]
  },
  {
   "cell_type": "code",
   "execution_count": 28,
   "id": "34e05402",
   "metadata": {},
   "outputs": [],
   "source": [
    "random = pd.read_csv('Moleculas.csv')"
   ]
  },
  {
   "cell_type": "code",
   "execution_count": 29,
   "id": "1e6c2ff4",
   "metadata": {},
   "outputs": [
    {
     "data": {
      "text/html": [
       "<div>\n",
       "<style scoped>\n",
       "    .dataframe tbody tr th:only-of-type {\n",
       "        vertical-align: middle;\n",
       "    }\n",
       "\n",
       "    .dataframe tbody tr th {\n",
       "        vertical-align: top;\n",
       "    }\n",
       "\n",
       "    .dataframe thead th {\n",
       "        text-align: right;\n",
       "    }\n",
       "</style>\n",
       "<table border=\"1\" class=\"dataframe\">\n",
       "  <thead>\n",
       "    <tr style=\"text-align: right;\">\n",
       "      <th></th>\n",
       "      <th>SMILES</th>\n",
       "      <th>Nombre</th>\n",
       "    </tr>\n",
       "  </thead>\n",
       "  <tbody>\n",
       "    <tr>\n",
       "      <th>0</th>\n",
       "      <td>CC(=C)C</td>\n",
       "      <td>Isobutileno</td>\n",
       "    </tr>\n",
       "    <tr>\n",
       "      <th>1</th>\n",
       "      <td>CC(O)C(=O)O</td>\n",
       "      <td>Ácido láctico</td>\n",
       "    </tr>\n",
       "  </tbody>\n",
       "</table>\n",
       "</div>"
      ],
      "text/plain": [
       "        SMILES          Nombre\n",
       "0      CC(=C)C     Isobutileno\n",
       "1  CC(O)C(=O)O  Ácido láctico "
      ]
     },
     "execution_count": 29,
     "metadata": {},
     "output_type": "execute_result"
    }
   ],
   "source": [
    "random"
   ]
  },
  {
   "cell_type": "code",
   "execution_count": 30,
   "id": "49514a17",
   "metadata": {},
   "outputs": [],
   "source": [
    "random['mol'] = random['SMILES'].map(Chem.MolFromSmiles).map(Chem.AddHs)"
   ]
  },
  {
   "cell_type": "code",
   "execution_count": 31,
   "id": "56aa959a",
   "metadata": {},
   "outputs": [],
   "source": [
    "random['Peso Molecular'] = random['mol'].map(Descriptors.MolWt)\n",
    "random['EValencia'] =  random['mol'].map(Descriptors.NumValenceElectrons)\n",
    "random['Rotables'] = random['mol'].map(Descriptors.NumRotatableBonds)\n",
    "random['TPSA'] = random['mol'].map(Descriptors.TPSA)\n",
    "random['CParcial'] = random['mol'].map(Descriptors.MaxAbsPartialCharge)\n",
    "random['EEmax'] = random['mol'].map(Descriptors.MaxEStateIndex)\n",
    "random['EEmin'] = random['mol'].map(Descriptors.MinEStateIndex)\n",
    "random['AAromaticos'] = random['mol'].map(Descriptors.NumAromaticRings)"
   ]
  },
  {
   "cell_type": "code",
   "execution_count": 32,
   "id": "750154c9",
   "metadata": {},
   "outputs": [
    {
     "data": {
      "text/html": [
       "<div>\n",
       "<style scoped>\n",
       "    .dataframe tbody tr th:only-of-type {\n",
       "        vertical-align: middle;\n",
       "    }\n",
       "\n",
       "    .dataframe tbody tr th {\n",
       "        vertical-align: top;\n",
       "    }\n",
       "\n",
       "    .dataframe thead th {\n",
       "        text-align: right;\n",
       "    }\n",
       "</style>\n",
       "<table border=\"1\" class=\"dataframe\">\n",
       "  <thead>\n",
       "    <tr style=\"text-align: right;\">\n",
       "      <th></th>\n",
       "      <th>SMILES</th>\n",
       "      <th>Nombre</th>\n",
       "      <th>mol</th>\n",
       "      <th>Peso Molecular</th>\n",
       "      <th>EValencia</th>\n",
       "      <th>Rotables</th>\n",
       "      <th>TPSA</th>\n",
       "      <th>CParcial</th>\n",
       "      <th>EEmax</th>\n",
       "      <th>EEmin</th>\n",
       "      <th>AAromaticos</th>\n",
       "    </tr>\n",
       "  </thead>\n",
       "  <tbody>\n",
       "    <tr>\n",
       "      <th>0</th>\n",
       "      <td>CC(=C)C</td>\n",
       "      <td>Isobutileno</td>\n",
       "      <td>&lt;rdkit.Chem.rdchem.Mol object at 0x0000025832B...</td>\n",
       "      <td>56.108</td>\n",
       "      <td>24</td>\n",
       "      <td>2</td>\n",
       "      <td>0.00</td>\n",
       "      <td>0.100420</td>\n",
       "      <td>6.750579</td>\n",
       "      <td>-2.884838</td>\n",
       "      <td>0</td>\n",
       "    </tr>\n",
       "    <tr>\n",
       "      <th>1</th>\n",
       "      <td>CC(O)C(=O)O</td>\n",
       "      <td>Ácido láctico</td>\n",
       "      <td>&lt;rdkit.Chem.rdchem.Mol object at 0x0000025832B...</td>\n",
       "      <td>90.078</td>\n",
       "      <td>36</td>\n",
       "      <td>3</td>\n",
       "      <td>57.53</td>\n",
       "      <td>0.479336</td>\n",
       "      <td>10.509236</td>\n",
       "      <td>-3.159838</td>\n",
       "      <td>0</td>\n",
       "    </tr>\n",
       "  </tbody>\n",
       "</table>\n",
       "</div>"
      ],
      "text/plain": [
       "        SMILES          Nombre  \\\n",
       "0      CC(=C)C     Isobutileno   \n",
       "1  CC(O)C(=O)O  Ácido láctico    \n",
       "\n",
       "                                                 mol  Peso Molecular  \\\n",
       "0  <rdkit.Chem.rdchem.Mol object at 0x0000025832B...          56.108   \n",
       "1  <rdkit.Chem.rdchem.Mol object at 0x0000025832B...          90.078   \n",
       "\n",
       "   EValencia  Rotables   TPSA  CParcial      EEmax     EEmin  AAromaticos  \n",
       "0         24         2   0.00  0.100420   6.750579 -2.884838            0  \n",
       "1         36         3  57.53  0.479336  10.509236 -3.159838            0  "
      ]
     },
     "execution_count": 32,
     "metadata": {},
     "output_type": "execute_result"
    }
   ],
   "source": [
    "random"
   ]
  },
  {
   "cell_type": "code",
   "execution_count": 33,
   "id": "f9652d54",
   "metadata": {},
   "outputs": [],
   "source": [
    "random_O = random[['Nombre', 'Peso Molecular', 'EValencia', 'Rotables', 'TPSA', 'CParcial', 'EEmax', 'EEmin', 'AAromaticos']]\n",
    "# random_O muestra los datos de forma ordenada, similar a la de datos_M"
   ]
  },
  {
   "cell_type": "code",
   "execution_count": 34,
   "id": "97f41807",
   "metadata": {},
   "outputs": [
    {
     "data": {
      "text/html": [
       "<div>\n",
       "<style scoped>\n",
       "    .dataframe tbody tr th:only-of-type {\n",
       "        vertical-align: middle;\n",
       "    }\n",
       "\n",
       "    .dataframe tbody tr th {\n",
       "        vertical-align: top;\n",
       "    }\n",
       "\n",
       "    .dataframe thead th {\n",
       "        text-align: right;\n",
       "    }\n",
       "</style>\n",
       "<table border=\"1\" class=\"dataframe\">\n",
       "  <thead>\n",
       "    <tr style=\"text-align: right;\">\n",
       "      <th></th>\n",
       "      <th>Nombre</th>\n",
       "      <th>Peso Molecular</th>\n",
       "      <th>EValencia</th>\n",
       "      <th>Rotables</th>\n",
       "      <th>TPSA</th>\n",
       "      <th>CParcial</th>\n",
       "      <th>EEmax</th>\n",
       "      <th>EEmin</th>\n",
       "      <th>AAromaticos</th>\n",
       "    </tr>\n",
       "  </thead>\n",
       "  <tbody>\n",
       "    <tr>\n",
       "      <th>0</th>\n",
       "      <td>Isobutileno</td>\n",
       "      <td>56.108</td>\n",
       "      <td>24</td>\n",
       "      <td>2</td>\n",
       "      <td>0.00</td>\n",
       "      <td>0.100420</td>\n",
       "      <td>6.750579</td>\n",
       "      <td>-2.884838</td>\n",
       "      <td>0</td>\n",
       "    </tr>\n",
       "    <tr>\n",
       "      <th>1</th>\n",
       "      <td>Ácido láctico</td>\n",
       "      <td>90.078</td>\n",
       "      <td>36</td>\n",
       "      <td>3</td>\n",
       "      <td>57.53</td>\n",
       "      <td>0.479336</td>\n",
       "      <td>10.509236</td>\n",
       "      <td>-3.159838</td>\n",
       "      <td>0</td>\n",
       "    </tr>\n",
       "  </tbody>\n",
       "</table>\n",
       "</div>"
      ],
      "text/plain": [
       "           Nombre  Peso Molecular  EValencia  Rotables   TPSA  CParcial  \\\n",
       "0     Isobutileno          56.108         24         2   0.00  0.100420   \n",
       "1  Ácido láctico           90.078         36         3  57.53  0.479336   \n",
       "\n",
       "       EEmax     EEmin  AAromaticos  \n",
       "0   6.750579 -2.884838            0  \n",
       "1  10.509236 -3.159838            0  "
      ]
     },
     "execution_count": 34,
     "metadata": {},
     "output_type": "execute_result"
    }
   ],
   "source": [
    "random_O"
   ]
  },
  {
   "cell_type": "code",
   "execution_count": 35,
   "id": "4253ecf8",
   "metadata": {},
   "outputs": [],
   "source": [
    "random.to_csv('base_ramdom.csv') #Guardamos base nueva para poder usarla en otra ocasión "
   ]
  },
  {
   "cell_type": "markdown",
   "id": "d1800795",
   "metadata": {},
   "source": [
    "# Predecir Tg del Isobutileno"
   ]
  },
  {
   "cell_type": "code",
   "execution_count": 38,
   "id": "900c8d2f",
   "metadata": {},
   "outputs": [
    {
     "name": "stdout",
     "output_type": "stream",
     "text": [
      "X=[56.108    24.        2.        0.        0.10042   6.750579 -2.884838\n",
      "  0.      ], Predicted=[270.9257]\n"
     ]
    }
   ],
   "source": [
    "Xnew = np.array([[56.108, 24, 2, 0.00, 0.100420, 6.750579, -2.884838, 0]])\n",
    "Xnew = scaler_x.transform(Xnew)\n",
    "ynew = model.predict(Xnew)\n",
    "\n",
    "#invert normalize\n",
    "ynew = scaler_y.inverse_transform(ynew)\n",
    "Xnew = scaler_x.inverse_transform(Xnew)\n",
    "\n",
    "print('X=%s, Predicted=%s' %(Xnew[0], ynew[0]))"
   ]
  },
  {
   "cell_type": "markdown",
   "id": "92fdf2f4",
   "metadata": {},
   "source": [
    "# Predecir Tg del ácido láctico "
   ]
  },
  {
   "cell_type": "code",
   "execution_count": 37,
   "id": "9ed77465",
   "metadata": {},
   "outputs": [
    {
     "name": "stdout",
     "output_type": "stream",
     "text": [
      "X=[90.078    36.        3.       57.53      0.479336 10.509236 -3.159838\n",
      "  0.      ], Predicted=[282.81335]\n"
     ]
    }
   ],
   "source": [
    "Xnew = np.array([[90.078, 36, 3, 57.53, 0.479336, 10.509236,  -3.159838, 0]])\n",
    "Xnew = scaler_x.transform(Xnew)\n",
    "ynew = model.predict(Xnew)\n",
    "\n",
    "#invert normalize\n",
    "ynew = scaler_y.inverse_transform(ynew)\n",
    "Xnew = scaler_x.inverse_transform(Xnew)\n",
    "\n",
    "print('X=%s, Predicted=%s' %(Xnew[0], ynew[0]))"
   ]
  },
  {
   "cell_type": "code",
   "execution_count": 39,
   "id": "524088ed",
   "metadata": {},
   "outputs": [],
   "source": [
    "# Predicted = Tg (Temperatura de trancisión vítrea)"
   ]
  },
  {
   "cell_type": "code",
   "execution_count": null,
   "id": "743ad1d9",
   "metadata": {},
   "outputs": [],
   "source": []
  }
 ],
 "metadata": {
  "kernelspec": {
   "display_name": "Python 3 (ipykernel)",
   "language": "python",
   "name": "python3"
  },
  "language_info": {
   "codemirror_mode": {
    "name": "ipython",
    "version": 3
   },
   "file_extension": ".py",
   "mimetype": "text/x-python",
   "name": "python",
   "nbconvert_exporter": "python",
   "pygments_lexer": "ipython3",
   "version": "3.9.6"
  }
 },
 "nbformat": 4,
 "nbformat_minor": 5
}
