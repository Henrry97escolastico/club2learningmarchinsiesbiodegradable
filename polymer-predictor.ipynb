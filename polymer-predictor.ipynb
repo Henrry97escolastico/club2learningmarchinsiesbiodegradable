{
  "nbformat": 4,
  "nbformat_minor": 5,
  "metadata": {
    "kernelspec": {
      "display_name": "Python 3 (ipykernel)",
      "language": "python",
      "name": "python3"
    },
    "language_info": {
      "codemirror_mode": {
        "name": "ipython",
        "version": 3
      },
      "file_extension": ".py",
      "mimetype": "text/x-python",
      "name": "python",
      "nbconvert_exporter": "python",
      "pygments_lexer": "ipython3",
      "version": "3.9.6"
    },
    "colab": {
      "name": "POLYMER PREDICTOR.ipynb",
      "provenance": [],
      "include_colab_link": true
    }
  },
  "cells": [
    {
      "cell_type": "markdown",
      "metadata": {
        "id": "view-in-github",
        "colab_type": "text"
      },
      "source": [
        "<a href=\"https://colab.research.google.com/gist/T19-arch/05127c462f17b82f8e402eb30c9d7f3e/polymer-predictor.ipynb\" target=\"_parent\"><img src=\"https://colab.research.google.com/assets/colab-badge.svg\" alt=\"Open In Colab\"/></a>"
      ]
    },
    {
      "cell_type": "markdown",
      "metadata": {
        "id": "37faa68b"
      },
      "source": [
        "# Introducción\n",
        "Este es un modelo de regresión utilizando Deep Learning mediante el cual se lleva a cabo un proceso de Machine Learning. \n",
        "El modelo se integra por redes neuronales y busca predecir la temperatura de transición vitrea (Tg) de dos polímeros, uno hecho con unidades de Isopropileno y otro con Ácido Láctico.\n",
        "En este proyecto se integraron muchos conocimientos adquiridos durante las sesiones del club 2: Learning Machín de Polímeros. \n",
        "Agrademos a nuestros profesores del club María Ley Flores Y Javier Carrillo."
      ],
      "id": "37faa68b"
    },
    {
      "cell_type": "code",
      "metadata": {
        "id": "b75f416e"
      },
      "source": [
        "import matplotlib.pyplot as plt\n",
        "import numpy as np\n",
        "import pandas as pd\n",
        "\n",
        "from sklearn.model_selection import train_test_split\n",
        "from sklearn.model_selection import cross_val_score\n",
        "from sklearn.model_selection import KFold\n",
        "\n",
        "#from sklearn.pipeline import Pipeline\n",
        "from sklearn.preprocessing import MinMaxScaler\n",
        "from tensorflow.python.keras.models import Sequential\n",
        "from tensorflow.python.keras.layers import Dense\n",
        "from tensorflow.keras.utils import plot_model\n",
        "from tensorflow.python.keras.wrappers.scikit_learn import KerasRegressor"
      ],
      "id": "b75f416e",
      "execution_count": null,
      "outputs": []
    },
    {
      "cell_type": "markdown",
      "metadata": {
        "id": "2b235833"
      },
      "source": [
        "# Cargar datos"
      ],
      "id": "2b235833"
    },
    {
      "cell_type": "code",
      "metadata": {
        "id": "c5926c3f",
        "colab": {
          "base_uri": "https://localhost:8080/",
          "height": 374
        },
        "outputId": "f0c8091a-36e3-4488-f19d-f1e1d1c6c101"
      },
      "source": [
        "datos = pd.read_csv('base_polimeros.csv')"
      ],
      "id": "c5926c3f",
      "execution_count": null,
      "outputs": [
        {
          "output_type": "error",
          "ename": "FileNotFoundError",
          "evalue": "ignored",
          "traceback": [
            "\u001b[0;31m---------------------------------------------------------------------------\u001b[0m",
            "\u001b[0;31mFileNotFoundError\u001b[0m                         Traceback (most recent call last)",
            "\u001b[0;32m<ipython-input-3-11b794755b37>\u001b[0m in \u001b[0;36m<module>\u001b[0;34m()\u001b[0m\n\u001b[0;32m----> 1\u001b[0;31m \u001b[0mdatos\u001b[0m \u001b[0;34m=\u001b[0m \u001b[0mpd\u001b[0m\u001b[0;34m.\u001b[0m\u001b[0mread_csv\u001b[0m\u001b[0;34m(\u001b[0m\u001b[0;34m'base_polimeros.csv'\u001b[0m\u001b[0;34m)\u001b[0m\u001b[0;34m\u001b[0m\u001b[0;34m\u001b[0m\u001b[0m\n\u001b[0m",
            "\u001b[0;32m/usr/local/lib/python3.7/dist-packages/pandas/io/parsers.py\u001b[0m in \u001b[0;36mread_csv\u001b[0;34m(filepath_or_buffer, sep, delimiter, header, names, index_col, usecols, squeeze, prefix, mangle_dupe_cols, dtype, engine, converters, true_values, false_values, skipinitialspace, skiprows, skipfooter, nrows, na_values, keep_default_na, na_filter, verbose, skip_blank_lines, parse_dates, infer_datetime_format, keep_date_col, date_parser, dayfirst, cache_dates, iterator, chunksize, compression, thousands, decimal, lineterminator, quotechar, quoting, doublequote, escapechar, comment, encoding, dialect, error_bad_lines, warn_bad_lines, delim_whitespace, low_memory, memory_map, float_precision)\u001b[0m\n\u001b[1;32m    686\u001b[0m     )\n\u001b[1;32m    687\u001b[0m \u001b[0;34m\u001b[0m\u001b[0m\n\u001b[0;32m--> 688\u001b[0;31m     \u001b[0;32mreturn\u001b[0m \u001b[0m_read\u001b[0m\u001b[0;34m(\u001b[0m\u001b[0mfilepath_or_buffer\u001b[0m\u001b[0;34m,\u001b[0m \u001b[0mkwds\u001b[0m\u001b[0;34m)\u001b[0m\u001b[0;34m\u001b[0m\u001b[0;34m\u001b[0m\u001b[0m\n\u001b[0m\u001b[1;32m    689\u001b[0m \u001b[0;34m\u001b[0m\u001b[0m\n\u001b[1;32m    690\u001b[0m \u001b[0;34m\u001b[0m\u001b[0m\n",
            "\u001b[0;32m/usr/local/lib/python3.7/dist-packages/pandas/io/parsers.py\u001b[0m in \u001b[0;36m_read\u001b[0;34m(filepath_or_buffer, kwds)\u001b[0m\n\u001b[1;32m    452\u001b[0m \u001b[0;34m\u001b[0m\u001b[0m\n\u001b[1;32m    453\u001b[0m     \u001b[0;31m# Create the parser.\u001b[0m\u001b[0;34m\u001b[0m\u001b[0;34m\u001b[0m\u001b[0;34m\u001b[0m\u001b[0m\n\u001b[0;32m--> 454\u001b[0;31m     \u001b[0mparser\u001b[0m \u001b[0;34m=\u001b[0m \u001b[0mTextFileReader\u001b[0m\u001b[0;34m(\u001b[0m\u001b[0mfp_or_buf\u001b[0m\u001b[0;34m,\u001b[0m \u001b[0;34m**\u001b[0m\u001b[0mkwds\u001b[0m\u001b[0;34m)\u001b[0m\u001b[0;34m\u001b[0m\u001b[0;34m\u001b[0m\u001b[0m\n\u001b[0m\u001b[1;32m    455\u001b[0m \u001b[0;34m\u001b[0m\u001b[0m\n\u001b[1;32m    456\u001b[0m     \u001b[0;32mif\u001b[0m \u001b[0mchunksize\u001b[0m \u001b[0;32mor\u001b[0m \u001b[0miterator\u001b[0m\u001b[0;34m:\u001b[0m\u001b[0;34m\u001b[0m\u001b[0;34m\u001b[0m\u001b[0m\n",
            "\u001b[0;32m/usr/local/lib/python3.7/dist-packages/pandas/io/parsers.py\u001b[0m in \u001b[0;36m__init__\u001b[0;34m(self, f, engine, **kwds)\u001b[0m\n\u001b[1;32m    946\u001b[0m             \u001b[0mself\u001b[0m\u001b[0;34m.\u001b[0m\u001b[0moptions\u001b[0m\u001b[0;34m[\u001b[0m\u001b[0;34m\"has_index_names\"\u001b[0m\u001b[0;34m]\u001b[0m \u001b[0;34m=\u001b[0m \u001b[0mkwds\u001b[0m\u001b[0;34m[\u001b[0m\u001b[0;34m\"has_index_names\"\u001b[0m\u001b[0;34m]\u001b[0m\u001b[0;34m\u001b[0m\u001b[0;34m\u001b[0m\u001b[0m\n\u001b[1;32m    947\u001b[0m \u001b[0;34m\u001b[0m\u001b[0m\n\u001b[0;32m--> 948\u001b[0;31m         \u001b[0mself\u001b[0m\u001b[0;34m.\u001b[0m\u001b[0m_make_engine\u001b[0m\u001b[0;34m(\u001b[0m\u001b[0mself\u001b[0m\u001b[0;34m.\u001b[0m\u001b[0mengine\u001b[0m\u001b[0;34m)\u001b[0m\u001b[0;34m\u001b[0m\u001b[0;34m\u001b[0m\u001b[0m\n\u001b[0m\u001b[1;32m    949\u001b[0m \u001b[0;34m\u001b[0m\u001b[0m\n\u001b[1;32m    950\u001b[0m     \u001b[0;32mdef\u001b[0m \u001b[0mclose\u001b[0m\u001b[0;34m(\u001b[0m\u001b[0mself\u001b[0m\u001b[0;34m)\u001b[0m\u001b[0;34m:\u001b[0m\u001b[0;34m\u001b[0m\u001b[0;34m\u001b[0m\u001b[0m\n",
            "\u001b[0;32m/usr/local/lib/python3.7/dist-packages/pandas/io/parsers.py\u001b[0m in \u001b[0;36m_make_engine\u001b[0;34m(self, engine)\u001b[0m\n\u001b[1;32m   1178\u001b[0m     \u001b[0;32mdef\u001b[0m \u001b[0m_make_engine\u001b[0m\u001b[0;34m(\u001b[0m\u001b[0mself\u001b[0m\u001b[0;34m,\u001b[0m \u001b[0mengine\u001b[0m\u001b[0;34m=\u001b[0m\u001b[0;34m\"c\"\u001b[0m\u001b[0;34m)\u001b[0m\u001b[0;34m:\u001b[0m\u001b[0;34m\u001b[0m\u001b[0;34m\u001b[0m\u001b[0m\n\u001b[1;32m   1179\u001b[0m         \u001b[0;32mif\u001b[0m \u001b[0mengine\u001b[0m \u001b[0;34m==\u001b[0m \u001b[0;34m\"c\"\u001b[0m\u001b[0;34m:\u001b[0m\u001b[0;34m\u001b[0m\u001b[0;34m\u001b[0m\u001b[0m\n\u001b[0;32m-> 1180\u001b[0;31m             \u001b[0mself\u001b[0m\u001b[0;34m.\u001b[0m\u001b[0m_engine\u001b[0m \u001b[0;34m=\u001b[0m \u001b[0mCParserWrapper\u001b[0m\u001b[0;34m(\u001b[0m\u001b[0mself\u001b[0m\u001b[0;34m.\u001b[0m\u001b[0mf\u001b[0m\u001b[0;34m,\u001b[0m \u001b[0;34m**\u001b[0m\u001b[0mself\u001b[0m\u001b[0;34m.\u001b[0m\u001b[0moptions\u001b[0m\u001b[0;34m)\u001b[0m\u001b[0;34m\u001b[0m\u001b[0;34m\u001b[0m\u001b[0m\n\u001b[0m\u001b[1;32m   1181\u001b[0m         \u001b[0;32melse\u001b[0m\u001b[0;34m:\u001b[0m\u001b[0;34m\u001b[0m\u001b[0;34m\u001b[0m\u001b[0m\n\u001b[1;32m   1182\u001b[0m             \u001b[0;32mif\u001b[0m \u001b[0mengine\u001b[0m \u001b[0;34m==\u001b[0m \u001b[0;34m\"python\"\u001b[0m\u001b[0;34m:\u001b[0m\u001b[0;34m\u001b[0m\u001b[0;34m\u001b[0m\u001b[0m\n",
            "\u001b[0;32m/usr/local/lib/python3.7/dist-packages/pandas/io/parsers.py\u001b[0m in \u001b[0;36m__init__\u001b[0;34m(self, src, **kwds)\u001b[0m\n\u001b[1;32m   2008\u001b[0m         \u001b[0mkwds\u001b[0m\u001b[0;34m[\u001b[0m\u001b[0;34m\"usecols\"\u001b[0m\u001b[0;34m]\u001b[0m \u001b[0;34m=\u001b[0m \u001b[0mself\u001b[0m\u001b[0;34m.\u001b[0m\u001b[0musecols\u001b[0m\u001b[0;34m\u001b[0m\u001b[0;34m\u001b[0m\u001b[0m\n\u001b[1;32m   2009\u001b[0m \u001b[0;34m\u001b[0m\u001b[0m\n\u001b[0;32m-> 2010\u001b[0;31m         \u001b[0mself\u001b[0m\u001b[0;34m.\u001b[0m\u001b[0m_reader\u001b[0m \u001b[0;34m=\u001b[0m \u001b[0mparsers\u001b[0m\u001b[0;34m.\u001b[0m\u001b[0mTextReader\u001b[0m\u001b[0;34m(\u001b[0m\u001b[0msrc\u001b[0m\u001b[0;34m,\u001b[0m \u001b[0;34m**\u001b[0m\u001b[0mkwds\u001b[0m\u001b[0;34m)\u001b[0m\u001b[0;34m\u001b[0m\u001b[0;34m\u001b[0m\u001b[0m\n\u001b[0m\u001b[1;32m   2011\u001b[0m         \u001b[0mself\u001b[0m\u001b[0;34m.\u001b[0m\u001b[0munnamed_cols\u001b[0m \u001b[0;34m=\u001b[0m \u001b[0mself\u001b[0m\u001b[0;34m.\u001b[0m\u001b[0m_reader\u001b[0m\u001b[0;34m.\u001b[0m\u001b[0munnamed_cols\u001b[0m\u001b[0;34m\u001b[0m\u001b[0;34m\u001b[0m\u001b[0m\n\u001b[1;32m   2012\u001b[0m \u001b[0;34m\u001b[0m\u001b[0m\n",
            "\u001b[0;32mpandas/_libs/parsers.pyx\u001b[0m in \u001b[0;36mpandas._libs.parsers.TextReader.__cinit__\u001b[0;34m()\u001b[0m\n",
            "\u001b[0;32mpandas/_libs/parsers.pyx\u001b[0m in \u001b[0;36mpandas._libs.parsers.TextReader._setup_parser_source\u001b[0;34m()\u001b[0m\n",
            "\u001b[0;31mFileNotFoundError\u001b[0m: [Errno 2] No such file or directory: 'base_polimeros.csv'"
          ]
        }
      ]
    },
    {
      "cell_type": "code",
      "metadata": {
        "id": "b87320b3",
        "outputId": "3c7c5002-ddb9-4d8e-d783-7059f690cadd"
      },
      "source": [
        "datos"
      ],
      "id": "b87320b3",
      "execution_count": null,
      "outputs": [
        {
          "data": {
            "text/html": [
              "<div>\n",
              "<style scoped>\n",
              "    .dataframe tbody tr th:only-of-type {\n",
              "        vertical-align: middle;\n",
              "    }\n",
              "\n",
              "    .dataframe tbody tr th {\n",
              "        vertical-align: top;\n",
              "    }\n",
              "\n",
              "    .dataframe thead th {\n",
              "        text-align: right;\n",
              "    }\n",
              "</style>\n",
              "<table border=\"1\" class=\"dataframe\">\n",
              "  <thead>\n",
              "    <tr style=\"text-align: right;\">\n",
              "      <th></th>\n",
              "      <th>Nomenclature</th>\n",
              "      <th>SMILES</th>\n",
              "      <th>Tg</th>\n",
              "      <th>mol</th>\n",
              "      <th>Peso Molecular</th>\n",
              "      <th>EValencia</th>\n",
              "      <th>Rotables</th>\n",
              "      <th>TPSA</th>\n",
              "      <th>CParcial</th>\n",
              "      <th>EEmax</th>\n",
              "      <th>EEmin</th>\n",
              "      <th>AAromaticos</th>\n",
              "    </tr>\n",
              "  </thead>\n",
              "  <tbody>\n",
              "    <tr>\n",
              "      <th>0</th>\n",
              "      <td>Poly(4-biphenyl acrylate)</td>\n",
              "      <td>C=CC(=O)Oc2ccc(c1ccccc1)cc2</td>\n",
              "      <td>383</td>\n",
              "      <td>&lt;rdkit.Chem.rdchem.Mol object at 0x000001C2DCE...</td>\n",
              "      <td>224.259</td>\n",
              "      <td>84</td>\n",
              "      <td>3</td>\n",
              "      <td>26.3</td>\n",
              "      <td>0.423390</td>\n",
              "      <td>11.743743</td>\n",
              "      <td>-1.540408</td>\n",
              "      <td>2</td>\n",
              "    </tr>\n",
              "    <tr>\n",
              "      <th>1</th>\n",
              "      <td>Poly(butyl acrylate)</td>\n",
              "      <td>CCCCOC(=O)C=C</td>\n",
              "      <td>219</td>\n",
              "      <td>&lt;rdkit.Chem.rdchem.Mol object at 0x000001C2DCE...</td>\n",
              "      <td>128.171</td>\n",
              "      <td>52</td>\n",
              "      <td>5</td>\n",
              "      <td>26.3</td>\n",
              "      <td>0.462546</td>\n",
              "      <td>11.246086</td>\n",
              "      <td>-3.786302</td>\n",
              "      <td>0</td>\n",
              "    </tr>\n",
              "    <tr>\n",
              "      <th>2</th>\n",
              "      <td>Poly(sec-butyl acrylate)</td>\n",
              "      <td>CC(OC(=O)C=C)CC</td>\n",
              "      <td>250</td>\n",
              "      <td>&lt;rdkit.Chem.rdchem.Mol object at 0x000001C2DCE...</td>\n",
              "      <td>128.171</td>\n",
              "      <td>52</td>\n",
              "      <td>5</td>\n",
              "      <td>26.3</td>\n",
              "      <td>0.459541</td>\n",
              "      <td>11.392472</td>\n",
              "      <td>-3.843171</td>\n",
              "      <td>0</td>\n",
              "    </tr>\n",
              "    <tr>\n",
              "      <th>3</th>\n",
              "      <td>Poly(2-tertbutylphenyl acrylate)</td>\n",
              "      <td>C=CC(=O)Oc1ccccc1C(C)(C)C</td>\n",
              "      <td>345</td>\n",
              "      <td>&lt;rdkit.Chem.rdchem.Mol object at 0x000001C2DCE...</td>\n",
              "      <td>204.269</td>\n",
              "      <td>80</td>\n",
              "      <td>2</td>\n",
              "      <td>26.3</td>\n",
              "      <td>0.423071</td>\n",
              "      <td>12.059739</td>\n",
              "      <td>-3.934860</td>\n",
              "      <td>1</td>\n",
              "    </tr>\n",
              "    <tr>\n",
              "      <th>4</th>\n",
              "      <td>Poly(4-tertbutylphenyl acrylate)</td>\n",
              "      <td>C=CC(=O)Oc1ccc(C(C)(C)C)cc1</td>\n",
              "      <td>344</td>\n",
              "      <td>&lt;rdkit.Chem.rdchem.Mol object at 0x000001C2DCE...</td>\n",
              "      <td>204.269</td>\n",
              "      <td>80</td>\n",
              "      <td>2</td>\n",
              "      <td>26.3</td>\n",
              "      <td>0.423390</td>\n",
              "      <td>11.773838</td>\n",
              "      <td>-3.852581</td>\n",
              "      <td>1</td>\n",
              "    </tr>\n",
              "    <tr>\n",
              "      <th>...</th>\n",
              "      <td>...</td>\n",
              "      <td>...</td>\n",
              "      <td>...</td>\n",
              "      <td>...</td>\n",
              "      <td>...</td>\n",
              "      <td>...</td>\n",
              "      <td>...</td>\n",
              "      <td>...</td>\n",
              "      <td>...</td>\n",
              "      <td>...</td>\n",
              "      <td>...</td>\n",
              "      <td>...</td>\n",
              "    </tr>\n",
              "    <tr>\n",
              "      <th>346</th>\n",
              "      <td>Poly(4-chlorostyrene)</td>\n",
              "      <td>C=Cc1ccc(cc1)Cl</td>\n",
              "      <td>398</td>\n",
              "      <td>&lt;rdkit.Chem.rdchem.Mol object at 0x000001C2DDE...</td>\n",
              "      <td>138.597</td>\n",
              "      <td>46</td>\n",
              "      <td>1</td>\n",
              "      <td>0.0</td>\n",
              "      <td>0.098470</td>\n",
              "      <td>7.501296</td>\n",
              "      <td>-0.872109</td>\n",
              "      <td>1</td>\n",
              "    </tr>\n",
              "    <tr>\n",
              "      <th>347</th>\n",
              "      <td>Poly(2-chlorostyrene)</td>\n",
              "      <td>C=Cc1ccccc1Cl</td>\n",
              "      <td>395</td>\n",
              "      <td>&lt;rdkit.Chem.rdchem.Mol object at 0x000001C2DDE...</td>\n",
              "      <td>138.597</td>\n",
              "      <td>46</td>\n",
              "      <td>1</td>\n",
              "      <td>0.0</td>\n",
              "      <td>0.098417</td>\n",
              "      <td>7.501296</td>\n",
              "      <td>-0.854694</td>\n",
              "      <td>1</td>\n",
              "    </tr>\n",
              "    <tr>\n",
              "      <th>348</th>\n",
              "      <td>Poly(4-bromostyrene)</td>\n",
              "      <td>C=Cc1ccc(cc1)Br</td>\n",
              "      <td>411</td>\n",
              "      <td>&lt;rdkit.Chem.rdchem.Mol object at 0x000001C2DDE...</td>\n",
              "      <td>183.048</td>\n",
              "      <td>46</td>\n",
              "      <td>1</td>\n",
              "      <td>0.0</td>\n",
              "      <td>0.098470</td>\n",
              "      <td>7.555741</td>\n",
              "      <td>-0.844331</td>\n",
              "      <td>1</td>\n",
              "    </tr>\n",
              "    <tr>\n",
              "      <th>349</th>\n",
              "      <td>Poly(vinyl chloride)</td>\n",
              "      <td>ClC=C</td>\n",
              "      <td>350</td>\n",
              "      <td>&lt;rdkit.Chem.rdchem.Mol object at 0x000001C2DDE...</td>\n",
              "      <td>62.499</td>\n",
              "      <td>18</td>\n",
              "      <td>0</td>\n",
              "      <td>0.0</td>\n",
              "      <td>0.093598</td>\n",
              "      <td>6.302469</td>\n",
              "      <td>-0.641975</td>\n",
              "      <td>0</td>\n",
              "    </tr>\n",
              "    <tr>\n",
              "      <th>350</th>\n",
              "      <td>Poly(vinylidene chloride)</td>\n",
              "      <td>ClC(=C)Cl</td>\n",
              "      <td>270</td>\n",
              "      <td>&lt;rdkit.Chem.rdchem.Mol object at 0x000001C2DDE...</td>\n",
              "      <td>96.944</td>\n",
              "      <td>24</td>\n",
              "      <td>0</td>\n",
              "      <td>0.0</td>\n",
              "      <td>0.099184</td>\n",
              "      <td>6.314815</td>\n",
              "      <td>-0.543210</td>\n",
              "      <td>0</td>\n",
              "    </tr>\n",
              "  </tbody>\n",
              "</table>\n",
              "<p>351 rows × 12 columns</p>\n",
              "</div>"
            ],
            "text/plain": [
              "                         Nomenclature                       SMILES   Tg  \\\n",
              "0           Poly(4-biphenyl acrylate)  C=CC(=O)Oc2ccc(c1ccccc1)cc2  383   \n",
              "1                Poly(butyl acrylate)                CCCCOC(=O)C=C  219   \n",
              "2            Poly(sec-butyl acrylate)              CC(OC(=O)C=C)CC  250   \n",
              "3    Poly(2-tertbutylphenyl acrylate)    C=CC(=O)Oc1ccccc1C(C)(C)C  345   \n",
              "4    Poly(4-tertbutylphenyl acrylate)  C=CC(=O)Oc1ccc(C(C)(C)C)cc1  344   \n",
              "..                                ...                          ...  ...   \n",
              "346             Poly(4-chlorostyrene)              C=Cc1ccc(cc1)Cl  398   \n",
              "347             Poly(2-chlorostyrene)                C=Cc1ccccc1Cl  395   \n",
              "348              Poly(4-bromostyrene)              C=Cc1ccc(cc1)Br  411   \n",
              "349              Poly(vinyl chloride)                        ClC=C  350   \n",
              "350         Poly(vinylidene chloride)                    ClC(=C)Cl  270   \n",
              "\n",
              "                                                   mol  Peso Molecular  \\\n",
              "0    <rdkit.Chem.rdchem.Mol object at 0x000001C2DCE...         224.259   \n",
              "1    <rdkit.Chem.rdchem.Mol object at 0x000001C2DCE...         128.171   \n",
              "2    <rdkit.Chem.rdchem.Mol object at 0x000001C2DCE...         128.171   \n",
              "3    <rdkit.Chem.rdchem.Mol object at 0x000001C2DCE...         204.269   \n",
              "4    <rdkit.Chem.rdchem.Mol object at 0x000001C2DCE...         204.269   \n",
              "..                                                 ...             ...   \n",
              "346  <rdkit.Chem.rdchem.Mol object at 0x000001C2DDE...         138.597   \n",
              "347  <rdkit.Chem.rdchem.Mol object at 0x000001C2DDE...         138.597   \n",
              "348  <rdkit.Chem.rdchem.Mol object at 0x000001C2DDE...         183.048   \n",
              "349  <rdkit.Chem.rdchem.Mol object at 0x000001C2DDE...          62.499   \n",
              "350  <rdkit.Chem.rdchem.Mol object at 0x000001C2DDE...          96.944   \n",
              "\n",
              "     EValencia  Rotables  TPSA  CParcial      EEmax     EEmin  AAromaticos  \n",
              "0           84         3  26.3  0.423390  11.743743 -1.540408            2  \n",
              "1           52         5  26.3  0.462546  11.246086 -3.786302            0  \n",
              "2           52         5  26.3  0.459541  11.392472 -3.843171            0  \n",
              "3           80         2  26.3  0.423071  12.059739 -3.934860            1  \n",
              "4           80         2  26.3  0.423390  11.773838 -3.852581            1  \n",
              "..         ...       ...   ...       ...        ...       ...          ...  \n",
              "346         46         1   0.0  0.098470   7.501296 -0.872109            1  \n",
              "347         46         1   0.0  0.098417   7.501296 -0.854694            1  \n",
              "348         46         1   0.0  0.098470   7.555741 -0.844331            1  \n",
              "349         18         0   0.0  0.093598   6.302469 -0.641975            0  \n",
              "350         24         0   0.0  0.099184   6.314815 -0.543210            0  \n",
              "\n",
              "[351 rows x 12 columns]"
            ]
          },
          "execution_count": 65,
          "metadata": {},
          "output_type": "execute_result"
        }
      ]
    },
    {
      "cell_type": "code",
      "metadata": {
        "id": "7ca2307c"
      },
      "source": [
        "#datos_M contiene los 8 input, \n",
        "datos_M = datos[['Peso Molecular','EValencia','Rotables', 'TPSA', 'CParcial', 'EEmax', 'EEmin', 'AAromaticos', 'Tg']] "
      ],
      "id": "7ca2307c",
      "execution_count": null,
      "outputs": []
    },
    {
      "cell_type": "code",
      "metadata": {
        "id": "275fc171",
        "outputId": "30a9d76c-9ecf-4176-f8e1-42a44ba35383"
      },
      "source": [
        "datos_M"
      ],
      "id": "275fc171",
      "execution_count": null,
      "outputs": [
        {
          "data": {
            "text/html": [
              "<div>\n",
              "<style scoped>\n",
              "    .dataframe tbody tr th:only-of-type {\n",
              "        vertical-align: middle;\n",
              "    }\n",
              "\n",
              "    .dataframe tbody tr th {\n",
              "        vertical-align: top;\n",
              "    }\n",
              "\n",
              "    .dataframe thead th {\n",
              "        text-align: right;\n",
              "    }\n",
              "</style>\n",
              "<table border=\"1\" class=\"dataframe\">\n",
              "  <thead>\n",
              "    <tr style=\"text-align: right;\">\n",
              "      <th></th>\n",
              "      <th>Peso Molecular</th>\n",
              "      <th>EValencia</th>\n",
              "      <th>Rotables</th>\n",
              "      <th>TPSA</th>\n",
              "      <th>CParcial</th>\n",
              "      <th>EEmax</th>\n",
              "      <th>EEmin</th>\n",
              "      <th>AAromaticos</th>\n",
              "      <th>Tg</th>\n",
              "    </tr>\n",
              "  </thead>\n",
              "  <tbody>\n",
              "    <tr>\n",
              "      <th>0</th>\n",
              "      <td>224.259</td>\n",
              "      <td>84</td>\n",
              "      <td>3</td>\n",
              "      <td>26.3</td>\n",
              "      <td>0.423390</td>\n",
              "      <td>11.743743</td>\n",
              "      <td>-1.540408</td>\n",
              "      <td>2</td>\n",
              "      <td>383</td>\n",
              "    </tr>\n",
              "    <tr>\n",
              "      <th>1</th>\n",
              "      <td>128.171</td>\n",
              "      <td>52</td>\n",
              "      <td>5</td>\n",
              "      <td>26.3</td>\n",
              "      <td>0.462546</td>\n",
              "      <td>11.246086</td>\n",
              "      <td>-3.786302</td>\n",
              "      <td>0</td>\n",
              "      <td>219</td>\n",
              "    </tr>\n",
              "    <tr>\n",
              "      <th>2</th>\n",
              "      <td>128.171</td>\n",
              "      <td>52</td>\n",
              "      <td>5</td>\n",
              "      <td>26.3</td>\n",
              "      <td>0.459541</td>\n",
              "      <td>11.392472</td>\n",
              "      <td>-3.843171</td>\n",
              "      <td>0</td>\n",
              "      <td>250</td>\n",
              "    </tr>\n",
              "    <tr>\n",
              "      <th>3</th>\n",
              "      <td>204.269</td>\n",
              "      <td>80</td>\n",
              "      <td>2</td>\n",
              "      <td>26.3</td>\n",
              "      <td>0.423071</td>\n",
              "      <td>12.059739</td>\n",
              "      <td>-3.934860</td>\n",
              "      <td>1</td>\n",
              "      <td>345</td>\n",
              "    </tr>\n",
              "    <tr>\n",
              "      <th>4</th>\n",
              "      <td>204.269</td>\n",
              "      <td>80</td>\n",
              "      <td>2</td>\n",
              "      <td>26.3</td>\n",
              "      <td>0.423390</td>\n",
              "      <td>11.773838</td>\n",
              "      <td>-3.852581</td>\n",
              "      <td>1</td>\n",
              "      <td>344</td>\n",
              "    </tr>\n",
              "    <tr>\n",
              "      <th>...</th>\n",
              "      <td>...</td>\n",
              "      <td>...</td>\n",
              "      <td>...</td>\n",
              "      <td>...</td>\n",
              "      <td>...</td>\n",
              "      <td>...</td>\n",
              "      <td>...</td>\n",
              "      <td>...</td>\n",
              "      <td>...</td>\n",
              "    </tr>\n",
              "    <tr>\n",
              "      <th>346</th>\n",
              "      <td>138.597</td>\n",
              "      <td>46</td>\n",
              "      <td>1</td>\n",
              "      <td>0.0</td>\n",
              "      <td>0.098470</td>\n",
              "      <td>7.501296</td>\n",
              "      <td>-0.872109</td>\n",
              "      <td>1</td>\n",
              "      <td>398</td>\n",
              "    </tr>\n",
              "    <tr>\n",
              "      <th>347</th>\n",
              "      <td>138.597</td>\n",
              "      <td>46</td>\n",
              "      <td>1</td>\n",
              "      <td>0.0</td>\n",
              "      <td>0.098417</td>\n",
              "      <td>7.501296</td>\n",
              "      <td>-0.854694</td>\n",
              "      <td>1</td>\n",
              "      <td>395</td>\n",
              "    </tr>\n",
              "    <tr>\n",
              "      <th>348</th>\n",
              "      <td>183.048</td>\n",
              "      <td>46</td>\n",
              "      <td>1</td>\n",
              "      <td>0.0</td>\n",
              "      <td>0.098470</td>\n",
              "      <td>7.555741</td>\n",
              "      <td>-0.844331</td>\n",
              "      <td>1</td>\n",
              "      <td>411</td>\n",
              "    </tr>\n",
              "    <tr>\n",
              "      <th>349</th>\n",
              "      <td>62.499</td>\n",
              "      <td>18</td>\n",
              "      <td>0</td>\n",
              "      <td>0.0</td>\n",
              "      <td>0.093598</td>\n",
              "      <td>6.302469</td>\n",
              "      <td>-0.641975</td>\n",
              "      <td>0</td>\n",
              "      <td>350</td>\n",
              "    </tr>\n",
              "    <tr>\n",
              "      <th>350</th>\n",
              "      <td>96.944</td>\n",
              "      <td>24</td>\n",
              "      <td>0</td>\n",
              "      <td>0.0</td>\n",
              "      <td>0.099184</td>\n",
              "      <td>6.314815</td>\n",
              "      <td>-0.543210</td>\n",
              "      <td>0</td>\n",
              "      <td>270</td>\n",
              "    </tr>\n",
              "  </tbody>\n",
              "</table>\n",
              "<p>351 rows × 9 columns</p>\n",
              "</div>"
            ],
            "text/plain": [
              "     Peso Molecular  EValencia  Rotables  TPSA  CParcial      EEmax     EEmin  \\\n",
              "0           224.259         84         3  26.3  0.423390  11.743743 -1.540408   \n",
              "1           128.171         52         5  26.3  0.462546  11.246086 -3.786302   \n",
              "2           128.171         52         5  26.3  0.459541  11.392472 -3.843171   \n",
              "3           204.269         80         2  26.3  0.423071  12.059739 -3.934860   \n",
              "4           204.269         80         2  26.3  0.423390  11.773838 -3.852581   \n",
              "..              ...        ...       ...   ...       ...        ...       ...   \n",
              "346         138.597         46         1   0.0  0.098470   7.501296 -0.872109   \n",
              "347         138.597         46         1   0.0  0.098417   7.501296 -0.854694   \n",
              "348         183.048         46         1   0.0  0.098470   7.555741 -0.844331   \n",
              "349          62.499         18         0   0.0  0.093598   6.302469 -0.641975   \n",
              "350          96.944         24         0   0.0  0.099184   6.314815 -0.543210   \n",
              "\n",
              "     AAromaticos   Tg  \n",
              "0              2  383  \n",
              "1              0  219  \n",
              "2              0  250  \n",
              "3              1  345  \n",
              "4              1  344  \n",
              "..           ...  ...  \n",
              "346            1  398  \n",
              "347            1  395  \n",
              "348            1  411  \n",
              "349            0  350  \n",
              "350            0  270  \n",
              "\n",
              "[351 rows x 9 columns]"
            ]
          },
          "execution_count": 102,
          "metadata": {},
          "output_type": "execute_result"
        }
      ]
    },
    {
      "cell_type": "markdown",
      "metadata": {
        "id": "93e9a268"
      },
      "source": [
        "# De Dataframe a Array"
      ],
      "id": "93e9a268"
    },
    {
      "cell_type": "code",
      "metadata": {
        "id": "634c21f8"
      },
      "source": [
        "# Guardamos los valores de nuestra tablita en la variable dataset\n",
        "valores = datos_M.values"
      ],
      "id": "634c21f8",
      "execution_count": null,
      "outputs": []
    },
    {
      "cell_type": "code",
      "metadata": {
        "id": "0ccd3d22",
        "outputId": "c6c2d801-4eb9-482a-fa94-f1ce001c3d9a"
      },
      "source": [
        "valores"
      ],
      "id": "0ccd3d22",
      "execution_count": null,
      "outputs": [
        {
          "data": {
            "text/plain": [
              "array([[224.259     ,  84.        ,   3.        , ...,  -1.54040829,\n",
              "          2.        , 383.        ],\n",
              "       [128.171     ,  52.        ,   5.        , ...,  -3.78630196,\n",
              "          0.        , 219.        ],\n",
              "       [128.171     ,  52.        ,   5.        , ...,  -3.8431713 ,\n",
              "          0.        , 250.        ],\n",
              "       ...,\n",
              "       [183.048     ,  46.        ,   1.        , ...,  -0.84433107,\n",
              "          1.        , 411.        ],\n",
              "       [ 62.499     ,  18.        ,   0.        , ...,  -0.64197531,\n",
              "          0.        , 350.        ],\n",
              "       [ 96.944     ,  24.        ,   0.        , ...,  -0.54320988,\n",
              "          0.        , 270.        ]])"
            ]
          },
          "execution_count": 104,
          "metadata": {},
          "output_type": "execute_result"
        }
      ]
    },
    {
      "cell_type": "code",
      "metadata": {
        "id": "649fb083",
        "outputId": "1c4c3155-4a4d-41e4-987e-6a5d040783be"
      },
      "source": [
        "type(valores)"
      ],
      "id": "649fb083",
      "execution_count": null,
      "outputs": [
        {
          "data": {
            "text/plain": [
              "numpy.ndarray"
            ]
          },
          "execution_count": 105,
          "metadata": {},
          "output_type": "execute_result"
        }
      ]
    },
    {
      "cell_type": "code",
      "metadata": {
        "id": "ee5047e0",
        "outputId": "ec332f46-1481-484c-afcd-2dba921241e1"
      },
      "source": [
        "valores.shape"
      ],
      "id": "ee5047e0",
      "execution_count": null,
      "outputs": [
        {
          "data": {
            "text/plain": [
              "(351, 9)"
            ]
          },
          "execution_count": 106,
          "metadata": {},
          "output_type": "execute_result"
        }
      ]
    },
    {
      "cell_type": "code",
      "metadata": {
        "id": "98a028b3"
      },
      "source": [
        "x = valores[:, 0:8]\n",
        "y = valores[:,8]"
      ],
      "id": "98a028b3",
      "execution_count": null,
      "outputs": []
    },
    {
      "cell_type": "code",
      "metadata": {
        "id": "48513f7a"
      },
      "source": [
        "y = np.reshape(y, (-1,1))"
      ],
      "id": "48513f7a",
      "execution_count": null,
      "outputs": []
    },
    {
      "cell_type": "code",
      "metadata": {
        "id": "df21b996",
        "outputId": "6f7a2275-5de6-42a3-e004-de243c158797"
      },
      "source": [
        "x.shape, y.shape"
      ],
      "id": "df21b996",
      "execution_count": null,
      "outputs": [
        {
          "data": {
            "text/plain": [
              "((351, 8), (351, 1))"
            ]
          },
          "execution_count": 110,
          "metadata": {},
          "output_type": "execute_result"
        }
      ]
    },
    {
      "cell_type": "markdown",
      "metadata": {
        "id": "be49e5bd"
      },
      "source": [
        "# Datos escalados "
      ],
      "id": "be49e5bd"
    },
    {
      "cell_type": "code",
      "metadata": {
        "id": "6fff6eae"
      },
      "source": [
        "scaler_x = MinMaxScaler()\n",
        "scaler_y = MinMaxScaler()"
      ],
      "id": "6fff6eae",
      "execution_count": null,
      "outputs": []
    },
    {
      "cell_type": "code",
      "metadata": {
        "id": "4eee3657",
        "outputId": "712fc777-4e14-447e-baf1-0f2707ad12e0"
      },
      "source": [
        "# Escalar/Normalizar los datos de las x\n",
        "print(scaler_x.fit(x))\n",
        "xscale = scaler_x.transform(x)\n",
        "\n",
        "# Escalar/Normalizar los datos de las y\n",
        "print(scaler_y.fit(y))\n",
        "yscale = scaler_y.transform(y)"
      ],
      "id": "4eee3657",
      "execution_count": null,
      "outputs": [
        {
          "name": "stdout",
          "output_type": "stream",
          "text": [
            "MinMaxScaler()\n",
            "MinMaxScaler()\n"
          ]
        }
      ]
    },
    {
      "cell_type": "code",
      "metadata": {
        "id": "c969c04e",
        "outputId": "5c49b781-cd86-4389-ec69-72222a76749c"
      },
      "source": [
        "x"
      ],
      "id": "c969c04e",
      "execution_count": null,
      "outputs": [
        {
          "data": {
            "text/plain": [
              "array([[224.259     ,  84.        ,   3.        , ...,  11.74374286,\n",
              "         -1.54040829,   2.        ],\n",
              "       [128.171     ,  52.        ,   5.        , ...,  11.24608607,\n",
              "         -3.78630196,   0.        ],\n",
              "       [128.171     ,  52.        ,   5.        , ...,  11.39247213,\n",
              "         -3.8431713 ,   0.        ],\n",
              "       ...,\n",
              "       [183.048     ,  46.        ,   1.        , ...,   7.55574074,\n",
              "         -0.84433107,   1.        ],\n",
              "       [ 62.499     ,  18.        ,   0.        , ...,   6.30246914,\n",
              "         -0.64197531,   0.        ],\n",
              "       [ 96.944     ,  24.        ,   0.        , ...,   6.31481482,\n",
              "         -0.54320988,   0.        ]])"
            ]
          },
          "execution_count": 119,
          "metadata": {},
          "output_type": "execute_result"
        }
      ]
    },
    {
      "cell_type": "code",
      "metadata": {
        "id": "91bc1be4",
        "outputId": "9007488f-f01c-4b1a-e5fc-a36c1160d2fc"
      },
      "source": [
        "xscale"
      ],
      "id": "91bc1be4",
      "execution_count": null,
      "outputs": [
        {
          "data": {
            "text/plain": [
              "array([[0.3851779 , 0.41860465, 0.11111111, ..., 0.73691639, 0.81648005,\n",
              "        0.5       ],\n",
              "       [0.1965437 , 0.23255814, 0.18518519, ..., 0.67071984, 0.53678471,\n",
              "        0.        ],\n",
              "       [0.1965437 , 0.23255814, 0.18518519, ..., 0.6901916 , 0.52970241,\n",
              "        0.        ],\n",
              "       ...,\n",
              "       [0.30427493, 0.19767442, 0.03703704, ..., 0.17984318, 0.90316695,\n",
              "        0.25      ],\n",
              "       [0.06762036, 0.03488372, 0.        , ..., 0.01313743, 0.92836759,\n",
              "        0.        ],\n",
              "       [0.13524072, 0.06976744, 0.        , ..., 0.01477961, 0.94066747,\n",
              "        0.        ]])"
            ]
          },
          "execution_count": 120,
          "metadata": {},
          "output_type": "execute_result"
        }
      ]
    },
    {
      "cell_type": "markdown",
      "metadata": {
        "id": "d5d081da"
      },
      "source": [
        "# Entrenar modelo "
      ],
      "id": "d5d081da"
    },
    {
      "cell_type": "markdown",
      "metadata": {
        "id": "aa4f0ef7"
      },
      "source": [
        "# Datos "
      ],
      "id": "aa4f0ef7"
    },
    {
      "cell_type": "code",
      "metadata": {
        "id": "ba014e1b"
      },
      "source": [
        "X_train, X_test, y_train, y_test = train_test_split(xscale, yscale)"
      ],
      "id": "ba014e1b",
      "execution_count": null,
      "outputs": []
    },
    {
      "cell_type": "markdown",
      "metadata": {
        "id": "6b38d70f"
      },
      "source": [
        "# Características del modelo\n",
        "\n",
        "*8 variables de entrada\n",
        "\n",
        "*2 capas ocultas de 12 y 8 neuronas\n",
        "\n",
        "*1 capa de salida \n",
        "\n",
        "*MSE y MAE son nustras funciones de pérdida"
      ],
      "id": "6b38d70f"
    },
    {
      "cell_type": "code",
      "metadata": {
        "id": "00ce9336",
        "outputId": "7561ee03-1018-4cae-cfa2-943287d79cb8"
      },
      "source": [
        "model = Sequential()\n",
        "\n",
        "model.add(Dense(12, input_dim = 8, kernel_initializer = 'normal', activation = 'relu'))\n",
        "model.add(Dense(8, activation='relu'))\n",
        "model.add(Dense(1, activation='linear'))\n",
        "\n",
        "model.summary"
      ],
      "id": "00ce9336",
      "execution_count": null,
      "outputs": [
        {
          "data": {
            "text/plain": [
              "<bound method Model.summary of <tensorflow.python.keras.engine.sequential.Sequential object at 0x00000211B8BDB9D0>>"
            ]
          },
          "execution_count": 122,
          "metadata": {},
          "output_type": "execute_result"
        }
      ]
    },
    {
      "cell_type": "code",
      "metadata": {
        "id": "c67418b9"
      },
      "source": [
        "model.compile(loss='mse', optimizer='adam', metrics = ['mse','mae'])"
      ],
      "id": "c67418b9",
      "execution_count": null,
      "outputs": []
    },
    {
      "cell_type": "markdown",
      "metadata": {
        "id": "0bac315a"
      },
      "source": [
        "# Entrenando modelo"
      ],
      "id": "0bac315a"
    },
    {
      "cell_type": "code",
      "metadata": {
        "id": "741ab99c",
        "outputId": "f7ab1169-e56c-4cc3-b0a4-26fa68f68399"
      },
      "source": [
        "history = model.fit(X_train, y_train, epochs = 150, batch_size = 50, verbose = 1, validation_split = 0.2)"
      ],
      "id": "741ab99c",
      "execution_count": null,
      "outputs": [
        {
          "name": "stdout",
          "output_type": "stream",
          "text": [
            "Epoch 1/150\n",
            "5/5 [==============================] - 1s 80ms/step - loss: 0.1302 - mse: 0.1302 - mae: 0.3056 - val_loss: 0.0939 - val_mse: 0.0939 - val_mae: 0.2575\n",
            "Epoch 2/150\n",
            "5/5 [==============================] - 0s 11ms/step - loss: 0.1038 - mse: 0.1038 - mae: 0.2632 - val_loss: 0.0731 - val_mse: 0.0731 - val_mae: 0.2221\n",
            "Epoch 3/150\n",
            "5/5 [==============================] - 0s 11ms/step - loss: 0.0821 - mse: 0.0821 - mae: 0.2308 - val_loss: 0.0567 - val_mse: 0.0567 - val_mae: 0.1962\n",
            "Epoch 4/150\n",
            "5/5 [==============================] - 0s 10ms/step - loss: 0.0643 - mse: 0.0643 - mae: 0.2039 - val_loss: 0.0433 - val_mse: 0.0433 - val_mae: 0.1744\n",
            "Epoch 5/150\n",
            "5/5 [==============================] - 0s 11ms/step - loss: 0.0501 - mse: 0.0501 - mae: 0.1824 - val_loss: 0.0331 - val_mse: 0.0331 - val_mae: 0.1571\n",
            "Epoch 6/150\n",
            "5/5 [==============================] - 0s 9ms/step - loss: 0.0391 - mse: 0.0391 - mae: 0.1654 - val_loss: 0.0282 - val_mse: 0.0282 - val_mae: 0.1446\n",
            "Epoch 7/150\n",
            "5/5 [==============================] - 0s 10ms/step - loss: 0.0338 - mse: 0.0338 - mae: 0.1568 - val_loss: 0.0290 - val_mse: 0.0290 - val_mae: 0.1420\n",
            "Epoch 8/150\n",
            "5/5 [==============================] - 0s 13ms/step - loss: 0.0337 - mse: 0.0337 - mae: 0.1578 - val_loss: 0.0306 - val_mse: 0.0306 - val_mae: 0.1441\n",
            "Epoch 9/150\n",
            "5/5 [==============================] - 0s 10ms/step - loss: 0.0338 - mse: 0.0338 - mae: 0.1576 - val_loss: 0.0300 - val_mse: 0.0300 - val_mae: 0.1425\n",
            "Epoch 10/150\n",
            "5/5 [==============================] - 0s 11ms/step - loss: 0.0325 - mse: 0.0325 - mae: 0.1547 - val_loss: 0.0284 - val_mse: 0.0284 - val_mae: 0.1402\n",
            "Epoch 11/150\n",
            "5/5 [==============================] - 0s 10ms/step - loss: 0.0315 - mse: 0.0315 - mae: 0.1527 - val_loss: 0.0273 - val_mse: 0.0273 - val_mae: 0.1387\n",
            "Epoch 12/150\n",
            "5/5 [==============================] - 0s 10ms/step - loss: 0.0313 - mse: 0.0313 - mae: 0.1511 - val_loss: 0.0270 - val_mse: 0.0270 - val_mae: 0.1386\n",
            "Epoch 13/150\n",
            "5/5 [==============================] - 0s 11ms/step - loss: 0.0311 - mse: 0.0311 - mae: 0.1497 - val_loss: 0.0268 - val_mse: 0.0268 - val_mae: 0.1381\n",
            "Epoch 14/150\n",
            "5/5 [==============================] - 0s 10ms/step - loss: 0.0308 - mse: 0.0308 - mae: 0.1488 - val_loss: 0.0266 - val_mse: 0.0266 - val_mae: 0.1369\n",
            "Epoch 15/150\n",
            "5/5 [==============================] - 0s 10ms/step - loss: 0.0301 - mse: 0.0301 - mae: 0.1475 - val_loss: 0.0265 - val_mse: 0.0265 - val_mae: 0.1361\n",
            "Epoch 16/150\n",
            "5/5 [==============================] - 0s 9ms/step - loss: 0.0296 - mse: 0.0296 - mae: 0.1468 - val_loss: 0.0265 - val_mse: 0.0265 - val_mae: 0.1357\n",
            "Epoch 17/150\n",
            "5/5 [==============================] - 0s 9ms/step - loss: 0.0291 - mse: 0.0291 - mae: 0.1459 - val_loss: 0.0265 - val_mse: 0.0265 - val_mae: 0.1353\n",
            "Epoch 18/150\n",
            "5/5 [==============================] - 0s 10ms/step - loss: 0.0287 - mse: 0.0287 - mae: 0.1450 - val_loss: 0.0265 - val_mse: 0.0265 - val_mae: 0.1348\n",
            "Epoch 19/150\n",
            "5/5 [==============================] - 0s 9ms/step - loss: 0.0284 - mse: 0.0284 - mae: 0.1441 - val_loss: 0.0263 - val_mse: 0.0263 - val_mae: 0.1341\n",
            "Epoch 20/150\n",
            "5/5 [==============================] - 0s 10ms/step - loss: 0.0280 - mse: 0.0280 - mae: 0.1427 - val_loss: 0.0259 - val_mse: 0.0259 - val_mae: 0.1332\n",
            "Epoch 21/150\n",
            "5/5 [==============================] - 0s 10ms/step - loss: 0.0275 - mse: 0.0275 - mae: 0.1413 - val_loss: 0.0256 - val_mse: 0.0256 - val_mae: 0.1324\n",
            "Epoch 22/150\n",
            "5/5 [==============================] - 0s 10ms/step - loss: 0.0271 - mse: 0.0271 - mae: 0.1400 - val_loss: 0.0255 - val_mse: 0.0255 - val_mae: 0.1317\n",
            "Epoch 23/150\n",
            "5/5 [==============================] - 0s 11ms/step - loss: 0.0267 - mse: 0.0267 - mae: 0.1389 - val_loss: 0.0254 - val_mse: 0.0254 - val_mae: 0.1309\n",
            "Epoch 24/150\n",
            "5/5 [==============================] - 0s 10ms/step - loss: 0.0263 - mse: 0.0263 - mae: 0.1376 - val_loss: 0.0253 - val_mse: 0.0253 - val_mae: 0.1302\n",
            "Epoch 25/150\n",
            "5/5 [==============================] - 0s 10ms/step - loss: 0.0259 - mse: 0.0259 - mae: 0.1363 - val_loss: 0.0250 - val_mse: 0.0250 - val_mae: 0.1293\n",
            "Epoch 26/150\n",
            "5/5 [==============================] - 0s 10ms/step - loss: 0.0255 - mse: 0.0255 - mae: 0.1348 - val_loss: 0.0246 - val_mse: 0.0246 - val_mae: 0.1281\n",
            "Epoch 27/150\n",
            "5/5 [==============================] - 0s 10ms/step - loss: 0.0249 - mse: 0.0249 - mae: 0.1332 - val_loss: 0.0241 - val_mse: 0.0241 - val_mae: 0.1268\n",
            "Epoch 28/150\n",
            "5/5 [==============================] - 0s 10ms/step - loss: 0.0246 - mse: 0.0246 - mae: 0.1318 - val_loss: 0.0237 - val_mse: 0.0237 - val_mae: 0.1263\n",
            "Epoch 29/150\n",
            "5/5 [==============================] - 0s 11ms/step - loss: 0.0243 - mse: 0.0243 - mae: 0.1308 - val_loss: 0.0235 - val_mse: 0.0235 - val_mae: 0.1257\n",
            "Epoch 30/150\n",
            "5/5 [==============================] - 0s 10ms/step - loss: 0.0241 - mse: 0.0241 - mae: 0.1299 - val_loss: 0.0233 - val_mse: 0.0233 - val_mae: 0.1248\n",
            "Epoch 31/150\n",
            "5/5 [==============================] - 0s 10ms/step - loss: 0.0236 - mse: 0.0236 - mae: 0.1284 - val_loss: 0.0232 - val_mse: 0.0232 - val_mae: 0.1236\n",
            "Epoch 32/150\n",
            "5/5 [==============================] - 0s 10ms/step - loss: 0.0230 - mse: 0.0230 - mae: 0.1265 - val_loss: 0.0230 - val_mse: 0.0230 - val_mae: 0.1228\n",
            "Epoch 33/150\n",
            "5/5 [==============================] - 0s 11ms/step - loss: 0.0227 - mse: 0.0227 - mae: 0.1247 - val_loss: 0.0232 - val_mse: 0.0232 - val_mae: 0.1224\n",
            "Epoch 34/150\n",
            "5/5 [==============================] - 0s 10ms/step - loss: 0.0225 - mse: 0.0225 - mae: 0.1240 - val_loss: 0.0232 - val_mse: 0.0232 - val_mae: 0.1219\n",
            "Epoch 35/150\n",
            "5/5 [==============================] - 0s 10ms/step - loss: 0.0220 - mse: 0.0220 - mae: 0.1221 - val_loss: 0.0226 - val_mse: 0.0226 - val_mae: 0.1204\n",
            "Epoch 36/150\n",
            "5/5 [==============================] - 0s 10ms/step - loss: 0.0215 - mse: 0.0215 - mae: 0.1206 - val_loss: 0.0223 - val_mse: 0.0223 - val_mae: 0.1195\n",
            "Epoch 37/150\n",
            "5/5 [==============================] - 0s 11ms/step - loss: 0.0213 - mse: 0.0213 - mae: 0.1199 - val_loss: 0.0221 - val_mse: 0.0221 - val_mae: 0.1187\n",
            "Epoch 38/150\n",
            "5/5 [==============================] - 0s 10ms/step - loss: 0.0209 - mse: 0.0209 - mae: 0.1184 - val_loss: 0.0221 - val_mse: 0.0221 - val_mae: 0.1183\n",
            "Epoch 39/150\n",
            "5/5 [==============================] - 0s 10ms/step - loss: 0.0208 - mse: 0.0208 - mae: 0.1178 - val_loss: 0.0222 - val_mse: 0.0222 - val_mae: 0.1187\n",
            "Epoch 40/150\n",
            "5/5 [==============================] - 0s 11ms/step - loss: 0.0204 - mse: 0.0204 - mae: 0.1164 - val_loss: 0.0219 - val_mse: 0.0219 - val_mae: 0.1177\n",
            "Epoch 41/150\n",
            "5/5 [==============================] - 0s 10ms/step - loss: 0.0201 - mse: 0.0201 - mae: 0.1151 - val_loss: 0.0217 - val_mse: 0.0217 - val_mae: 0.1171\n",
            "Epoch 42/150\n",
            "5/5 [==============================] - 0s 10ms/step - loss: 0.0197 - mse: 0.0197 - mae: 0.1138 - val_loss: 0.0215 - val_mse: 0.0215 - val_mae: 0.1160\n",
            "Epoch 43/150\n",
            "5/5 [==============================] - 0s 10ms/step - loss: 0.0196 - mse: 0.0196 - mae: 0.1129 - val_loss: 0.0214 - val_mse: 0.0214 - val_mae: 0.1156\n",
            "Epoch 44/150\n",
            "5/5 [==============================] - 0s 10ms/step - loss: 0.0193 - mse: 0.0193 - mae: 0.1119 - val_loss: 0.0214 - val_mse: 0.0214 - val_mae: 0.1157\n",
            "Epoch 45/150\n",
            "5/5 [==============================] - 0s 11ms/step - loss: 0.0191 - mse: 0.0191 - mae: 0.1112 - val_loss: 0.0214 - val_mse: 0.0214 - val_mae: 0.1154\n",
            "Epoch 46/150\n",
            "5/5 [==============================] - 0s 11ms/step - loss: 0.0189 - mse: 0.0189 - mae: 0.1103 - val_loss: 0.0212 - val_mse: 0.0212 - val_mae: 0.1143\n",
            "Epoch 47/150\n",
            "5/5 [==============================] - 0s 11ms/step - loss: 0.0189 - mse: 0.0189 - mae: 0.1096 - val_loss: 0.0212 - val_mse: 0.0212 - val_mae: 0.1136\n",
            "Epoch 48/150\n",
            "5/5 [==============================] - 0s 11ms/step - loss: 0.0187 - mse: 0.0187 - mae: 0.1089 - val_loss: 0.0211 - val_mse: 0.0211 - val_mae: 0.1136\n",
            "Epoch 49/150\n",
            "5/5 [==============================] - 0s 11ms/step - loss: 0.0185 - mse: 0.0185 - mae: 0.1085 - val_loss: 0.0212 - val_mse: 0.0212 - val_mae: 0.1142\n",
            "Epoch 50/150\n",
            "5/5 [==============================] - 0s 12ms/step - loss: 0.0184 - mse: 0.0184 - mae: 0.1085 - val_loss: 0.0212 - val_mse: 0.0212 - val_mae: 0.1139\n",
            "Epoch 51/150\n",
            "5/5 [==============================] - 0s 11ms/step - loss: 0.0183 - mse: 0.0183 - mae: 0.1080 - val_loss: 0.0210 - val_mse: 0.0210 - val_mae: 0.1127\n",
            "Epoch 52/150\n",
            "5/5 [==============================] - 0s 11ms/step - loss: 0.0181 - mse: 0.0181 - mae: 0.1069 - val_loss: 0.0210 - val_mse: 0.0210 - val_mae: 0.1124\n",
            "Epoch 53/150\n",
            "5/5 [==============================] - 0s 11ms/step - loss: 0.0180 - mse: 0.0180 - mae: 0.1065 - val_loss: 0.0210 - val_mse: 0.0210 - val_mae: 0.1120\n",
            "Epoch 54/150\n",
            "5/5 [==============================] - 0s 11ms/step - loss: 0.0179 - mse: 0.0179 - mae: 0.1060 - val_loss: 0.0210 - val_mse: 0.0210 - val_mae: 0.1116\n",
            "Epoch 55/150\n",
            "5/5 [==============================] - 0s 11ms/step - loss: 0.0179 - mse: 0.0179 - mae: 0.1054 - val_loss: 0.0211 - val_mse: 0.0211 - val_mae: 0.1112\n",
            "Epoch 56/150\n",
            "5/5 [==============================] - 0s 12ms/step - loss: 0.0179 - mse: 0.0179 - mae: 0.1048 - val_loss: 0.0210 - val_mse: 0.0210 - val_mae: 0.1110\n",
            "Epoch 57/150\n",
            "5/5 [==============================] - 0s 12ms/step - loss: 0.0178 - mse: 0.0178 - mae: 0.1048 - val_loss: 0.0210 - val_mse: 0.0210 - val_mae: 0.1108\n",
            "Epoch 58/150\n",
            "5/5 [==============================] - 0s 11ms/step - loss: 0.0176 - mse: 0.0176 - mae: 0.1051 - val_loss: 0.0210 - val_mse: 0.0210 - val_mae: 0.1113\n",
            "Epoch 59/150\n",
            "5/5 [==============================] - 0s 11ms/step - loss: 0.0177 - mse: 0.0177 - mae: 0.1062 - val_loss: 0.0211 - val_mse: 0.0211 - val_mae: 0.1125\n",
            "Epoch 60/150\n",
            "5/5 [==============================] - 0s 12ms/step - loss: 0.0177 - mse: 0.0177 - mae: 0.1069 - val_loss: 0.0210 - val_mse: 0.0210 - val_mae: 0.1119\n",
            "Epoch 61/150\n",
            "5/5 [==============================] - 0s 11ms/step - loss: 0.0176 - mse: 0.0176 - mae: 0.1057 - val_loss: 0.0210 - val_mse: 0.0210 - val_mae: 0.1103\n",
            "Epoch 62/150\n",
            "5/5 [==============================] - 0s 12ms/step - loss: 0.0175 - mse: 0.0175 - mae: 0.1041 - val_loss: 0.0211 - val_mse: 0.0211 - val_mae: 0.1100\n",
            "Epoch 63/150\n",
            "5/5 [==============================] - 0s 12ms/step - loss: 0.0175 - mse: 0.0175 - mae: 0.1045 - val_loss: 0.0210 - val_mse: 0.0210 - val_mae: 0.1100\n",
            "Epoch 64/150\n",
            "5/5 [==============================] - 0s 12ms/step - loss: 0.0174 - mse: 0.0174 - mae: 0.1040 - val_loss: 0.0211 - val_mse: 0.0211 - val_mae: 0.1098\n",
            "Epoch 65/150\n",
            "5/5 [==============================] - 0s 12ms/step - loss: 0.0174 - mse: 0.0174 - mae: 0.1033 - val_loss: 0.0213 - val_mse: 0.0213 - val_mae: 0.1097\n",
            "Epoch 66/150\n",
            "5/5 [==============================] - 0s 12ms/step - loss: 0.0175 - mse: 0.0175 - mae: 0.1031 - val_loss: 0.0211 - val_mse: 0.0211 - val_mae: 0.1096\n",
            "Epoch 67/150\n",
            "5/5 [==============================] - 0s 11ms/step - loss: 0.0174 - mse: 0.0174 - mae: 0.1048 - val_loss: 0.0212 - val_mse: 0.0212 - val_mae: 0.1120\n",
            "Epoch 68/150\n",
            "5/5 [==============================] - 0s 12ms/step - loss: 0.0174 - mse: 0.0174 - mae: 0.1055 - val_loss: 0.0211 - val_mse: 0.0211 - val_mae: 0.1101\n",
            "Epoch 69/150\n",
            "5/5 [==============================] - 0s 11ms/step - loss: 0.0175 - mse: 0.0175 - mae: 0.1037 - val_loss: 0.0217 - val_mse: 0.0217 - val_mae: 0.1102\n",
            "Epoch 70/150\n",
            "5/5 [==============================] - 0s 12ms/step - loss: 0.0176 - mse: 0.0176 - mae: 0.1028 - val_loss: 0.0212 - val_mse: 0.0212 - val_mae: 0.1096\n",
            "Epoch 71/150\n",
            "5/5 [==============================] - 0s 12ms/step - loss: 0.0171 - mse: 0.0171 - mae: 0.1040 - val_loss: 0.0213 - val_mse: 0.0213 - val_mae: 0.1131\n",
            "Epoch 72/150\n",
            "5/5 [==============================] - 0s 11ms/step - loss: 0.0175 - mse: 0.0175 - mae: 0.1070 - val_loss: 0.0214 - val_mse: 0.0214 - val_mae: 0.1144\n",
            "Epoch 73/150\n",
            "5/5 [==============================] - 0s 13ms/step - loss: 0.0174 - mse: 0.0174 - mae: 0.1067 - val_loss: 0.0211 - val_mse: 0.0211 - val_mae: 0.1113\n",
            "Epoch 74/150\n",
            "5/5 [==============================] - 0s 12ms/step - loss: 0.0174 - mse: 0.0174 - mae: 0.1043 - val_loss: 0.0215 - val_mse: 0.0215 - val_mae: 0.1103\n",
            "Epoch 75/150\n",
            "5/5 [==============================] - 0s 12ms/step - loss: 0.0174 - mse: 0.0174 - mae: 0.1028 - val_loss: 0.0212 - val_mse: 0.0212 - val_mae: 0.1099\n",
            "Epoch 76/150\n",
            "5/5 [==============================] - 0s 12ms/step - loss: 0.0170 - mse: 0.0170 - mae: 0.1030 - val_loss: 0.0212 - val_mse: 0.0212 - val_mae: 0.1123\n",
            "Epoch 77/150\n",
            "5/5 [==============================] - 0s 11ms/step - loss: 0.0172 - mse: 0.0172 - mae: 0.1057 - val_loss: 0.0213 - val_mse: 0.0213 - val_mae: 0.1142\n",
            "Epoch 78/150\n",
            "5/5 [==============================] - 0s 12ms/step - loss: 0.0174 - mse: 0.0174 - mae: 0.1064 - val_loss: 0.0211 - val_mse: 0.0211 - val_mae: 0.1117\n",
            "Epoch 79/150\n",
            "5/5 [==============================] - 0s 11ms/step - loss: 0.0172 - mse: 0.0172 - mae: 0.1040 - val_loss: 0.0212 - val_mse: 0.0212 - val_mae: 0.1097\n",
            "Epoch 80/150\n",
            "5/5 [==============================] - 0s 12ms/step - loss: 0.0172 - mse: 0.0172 - mae: 0.1026 - val_loss: 0.0212 - val_mse: 0.0212 - val_mae: 0.1096\n",
            "Epoch 81/150\n",
            "5/5 [==============================] - 0s 9ms/step - loss: 0.0171 - mse: 0.0171 - mae: 0.1029 - val_loss: 0.0211 - val_mse: 0.0211 - val_mae: 0.1102\n",
            "Epoch 82/150\n",
            "5/5 [==============================] - 0s 11ms/step - loss: 0.0171 - mse: 0.0171 - mae: 0.1044 - val_loss: 0.0211 - val_mse: 0.0211 - val_mae: 0.1120\n",
            "Epoch 83/150\n",
            "5/5 [==============================] - 0s 10ms/step - loss: 0.0171 - mse: 0.0171 - mae: 0.1051 - val_loss: 0.0211 - val_mse: 0.0211 - val_mae: 0.1120\n",
            "Epoch 84/150\n",
            "5/5 [==============================] - 0s 11ms/step - loss: 0.0172 - mse: 0.0172 - mae: 0.1053 - val_loss: 0.0210 - val_mse: 0.0210 - val_mae: 0.1112\n",
            "Epoch 85/150\n",
            "5/5 [==============================] - 0s 10ms/step - loss: 0.0170 - mse: 0.0170 - mae: 0.1033 - val_loss: 0.0211 - val_mse: 0.0211 - val_mae: 0.1094\n",
            "Epoch 86/150\n",
            "5/5 [==============================] - 0s 11ms/step - loss: 0.0170 - mse: 0.0170 - mae: 0.1029 - val_loss: 0.0210 - val_mse: 0.0210 - val_mae: 0.1100\n",
            "Epoch 87/150\n",
            "5/5 [==============================] - 0s 11ms/step - loss: 0.0170 - mse: 0.0170 - mae: 0.1033 - val_loss: 0.0210 - val_mse: 0.0210 - val_mae: 0.1104\n",
            "Epoch 88/150\n",
            "5/5 [==============================] - 0s 10ms/step - loss: 0.0169 - mse: 0.0169 - mae: 0.1035 - val_loss: 0.0210 - val_mse: 0.0210 - val_mae: 0.1108\n",
            "Epoch 89/150\n",
            "5/5 [==============================] - 0s 11ms/step - loss: 0.0171 - mse: 0.0171 - mae: 0.1047 - val_loss: 0.0210 - val_mse: 0.0210 - val_mae: 0.1123\n",
            "Epoch 90/150\n",
            "5/5 [==============================] - 0s 10ms/step - loss: 0.0170 - mse: 0.0170 - mae: 0.1050 - val_loss: 0.0210 - val_mse: 0.0210 - val_mae: 0.1112\n",
            "Epoch 91/150\n",
            "5/5 [==============================] - 0s 12ms/step - loss: 0.0170 - mse: 0.0170 - mae: 0.1034 - val_loss: 0.0210 - val_mse: 0.0210 - val_mae: 0.1095\n",
            "Epoch 92/150\n",
            "5/5 [==============================] - 0s 10ms/step - loss: 0.0170 - mse: 0.0170 - mae: 0.1033 - val_loss: 0.0209 - val_mse: 0.0209 - val_mae: 0.1105\n",
            "Epoch 93/150\n",
            "5/5 [==============================] - 0s 11ms/step - loss: 0.0169 - mse: 0.0169 - mae: 0.1037 - val_loss: 0.0209 - val_mse: 0.0209 - val_mae: 0.1107\n",
            "Epoch 94/150\n",
            "5/5 [==============================] - 0s 10ms/step - loss: 0.0168 - mse: 0.0168 - mae: 0.1034 - val_loss: 0.0209 - val_mse: 0.0209 - val_mae: 0.1097\n",
            "Epoch 95/150\n",
            "5/5 [==============================] - 0s 10ms/step - loss: 0.0169 - mse: 0.0169 - mae: 0.1025 - val_loss: 0.0209 - val_mse: 0.0209 - val_mae: 0.1092\n",
            "Epoch 96/150\n",
            "5/5 [==============================] - 0s 10ms/step - loss: 0.0169 - mse: 0.0169 - mae: 0.1026 - val_loss: 0.0208 - val_mse: 0.0208 - val_mae: 0.1096\n",
            "Epoch 97/150\n",
            "5/5 [==============================] - 0s 11ms/step - loss: 0.0168 - mse: 0.0168 - mae: 0.1028 - val_loss: 0.0209 - val_mse: 0.0209 - val_mae: 0.1094\n",
            "Epoch 98/150\n",
            "5/5 [==============================] - 0s 9ms/step - loss: 0.0168 - mse: 0.0168 - mae: 0.1023 - val_loss: 0.0209 - val_mse: 0.0209 - val_mae: 0.1089\n",
            "Epoch 99/150\n",
            "5/5 [==============================] - 0s 11ms/step - loss: 0.0168 - mse: 0.0168 - mae: 0.1022 - val_loss: 0.0208 - val_mse: 0.0208 - val_mae: 0.1096\n",
            "Epoch 100/150\n",
            "5/5 [==============================] - 0s 11ms/step - loss: 0.0168 - mse: 0.0168 - mae: 0.1032 - val_loss: 0.0208 - val_mse: 0.0208 - val_mae: 0.1111\n",
            "Epoch 101/150\n",
            "5/5 [==============================] - 0s 9ms/step - loss: 0.0169 - mse: 0.0169 - mae: 0.1036 - val_loss: 0.0208 - val_mse: 0.0208 - val_mae: 0.1107\n",
            "Epoch 102/150\n",
            "5/5 [==============================] - 0s 11ms/step - loss: 0.0168 - mse: 0.0168 - mae: 0.1034 - val_loss: 0.0208 - val_mse: 0.0208 - val_mae: 0.1102\n",
            "Epoch 103/150\n",
            "5/5 [==============================] - 0s 10ms/step - loss: 0.0168 - mse: 0.0168 - mae: 0.1026 - val_loss: 0.0209 - val_mse: 0.0209 - val_mae: 0.1091\n",
            "Epoch 104/150\n",
            "5/5 [==============================] - 0s 10ms/step - loss: 0.0168 - mse: 0.0168 - mae: 0.1023 - val_loss: 0.0208 - val_mse: 0.0208 - val_mae: 0.1100\n",
            "Epoch 105/150\n",
            "5/5 [==============================] - 0s 10ms/step - loss: 0.0170 - mse: 0.0170 - mae: 0.1043 - val_loss: 0.0208 - val_mse: 0.0208 - val_mae: 0.1112\n",
            "Epoch 106/150\n",
            "5/5 [==============================] - 0s 9ms/step - loss: 0.0168 - mse: 0.0168 - mae: 0.1032 - val_loss: 0.0208 - val_mse: 0.0208 - val_mae: 0.1087\n",
            "Epoch 107/150\n",
            "5/5 [==============================] - 0s 10ms/step - loss: 0.0167 - mse: 0.0167 - mae: 0.1018 - val_loss: 0.0208 - val_mse: 0.0208 - val_mae: 0.1089\n",
            "Epoch 108/150\n",
            "5/5 [==============================] - 0s 10ms/step - loss: 0.0168 - mse: 0.0168 - mae: 0.1028 - val_loss: 0.0207 - val_mse: 0.0207 - val_mae: 0.1108\n",
            "Epoch 109/150\n",
            "5/5 [==============================] - 0s 10ms/step - loss: 0.0167 - mse: 0.0167 - mae: 0.1031 - val_loss: 0.0207 - val_mse: 0.0207 - val_mae: 0.1101\n",
            "Epoch 110/150\n",
            "5/5 [==============================] - 0s 10ms/step - loss: 0.0167 - mse: 0.0167 - mae: 0.1028 - val_loss: 0.0207 - val_mse: 0.0207 - val_mae: 0.1094\n",
            "Epoch 111/150\n",
            "5/5 [==============================] - 0s 10ms/step - loss: 0.0167 - mse: 0.0167 - mae: 0.1017 - val_loss: 0.0209 - val_mse: 0.0209 - val_mae: 0.1080\n",
            "Epoch 112/150\n",
            "5/5 [==============================] - 0s 10ms/step - loss: 0.0168 - mse: 0.0168 - mae: 0.1013 - val_loss: 0.0207 - val_mse: 0.0207 - val_mae: 0.1086\n",
            "Epoch 113/150\n",
            "5/5 [==============================] - 0s 9ms/step - loss: 0.0167 - mse: 0.0167 - mae: 0.1027 - val_loss: 0.0206 - val_mse: 0.0206 - val_mae: 0.1114\n",
            "Epoch 114/150\n",
            "5/5 [==============================] - 0s 10ms/step - loss: 0.0170 - mse: 0.0170 - mae: 0.1056 - val_loss: 0.0208 - val_mse: 0.0208 - val_mae: 0.1133\n",
            "Epoch 115/150\n",
            "5/5 [==============================] - 0s 11ms/step - loss: 0.0167 - mse: 0.0167 - mae: 0.1039 - val_loss: 0.0206 - val_mse: 0.0206 - val_mae: 0.1084\n",
            "Epoch 116/150\n",
            "5/5 [==============================] - 0s 9ms/step - loss: 0.0166 - mse: 0.0166 - mae: 0.1012 - val_loss: 0.0208 - val_mse: 0.0208 - val_mae: 0.1080\n",
            "Epoch 117/150\n",
            "5/5 [==============================] - 0s 11ms/step - loss: 0.0168 - mse: 0.0168 - mae: 0.1014 - val_loss: 0.0207 - val_mse: 0.0207 - val_mae: 0.1081\n",
            "Epoch 118/150\n",
            "5/5 [==============================] - 0s 10ms/step - loss: 0.0166 - mse: 0.0166 - mae: 0.1017 - val_loss: 0.0206 - val_mse: 0.0206 - val_mae: 0.1102\n",
            "Epoch 119/150\n",
            "5/5 [==============================] - 0s 9ms/step - loss: 0.0168 - mse: 0.0168 - mae: 0.1039 - val_loss: 0.0206 - val_mse: 0.0206 - val_mae: 0.1112\n",
            "Epoch 120/150\n",
            "5/5 [==============================] - 0s 11ms/step - loss: 0.0165 - mse: 0.0165 - mae: 0.1025 - val_loss: 0.0206 - val_mse: 0.0206 - val_mae: 0.1080\n",
            "Epoch 121/150\n",
            "5/5 [==============================] - 0s 10ms/step - loss: 0.0166 - mse: 0.0166 - mae: 0.1014 - val_loss: 0.0206 - val_mse: 0.0206 - val_mae: 0.1084\n",
            "Epoch 122/150\n",
            "5/5 [==============================] - 0s 10ms/step - loss: 0.0165 - mse: 0.0165 - mae: 0.1014 - val_loss: 0.0206 - val_mse: 0.0206 - val_mae: 0.1085\n",
            "Epoch 123/150\n",
            "5/5 [==============================] - 0s 11ms/step - loss: 0.0164 - mse: 0.0164 - mae: 0.1018 - val_loss: 0.0206 - val_mse: 0.0206 - val_mae: 0.1109\n",
            "Epoch 124/150\n",
            "5/5 [==============================] - 0s 10ms/step - loss: 0.0166 - mse: 0.0166 - mae: 0.1039 - val_loss: 0.0206 - val_mse: 0.0206 - val_mae: 0.1120\n",
            "Epoch 125/150\n",
            "5/5 [==============================] - 0s 11ms/step - loss: 0.0166 - mse: 0.0166 - mae: 0.1032 - val_loss: 0.0205 - val_mse: 0.0205 - val_mae: 0.1093\n",
            "Epoch 126/150\n",
            "5/5 [==============================] - 0s 11ms/step - loss: 0.0164 - mse: 0.0164 - mae: 0.1017 - val_loss: 0.0205 - val_mse: 0.0205 - val_mae: 0.1086\n",
            "Epoch 127/150\n",
            "5/5 [==============================] - 0s 9ms/step - loss: 0.0164 - mse: 0.0164 - mae: 0.1017 - val_loss: 0.0204 - val_mse: 0.0204 - val_mae: 0.1089\n",
            "Epoch 128/150\n",
            "5/5 [==============================] - 0s 9ms/step - loss: 0.0164 - mse: 0.0164 - mae: 0.1014 - val_loss: 0.0205 - val_mse: 0.0205 - val_mae: 0.1077\n",
            "Epoch 129/150\n",
            "5/5 [==============================] - 0s 10ms/step - loss: 0.0164 - mse: 0.0164 - mae: 0.1013 - val_loss: 0.0204 - val_mse: 0.0204 - val_mae: 0.1098\n",
            "Epoch 130/150\n",
            "5/5 [==============================] - 0s 10ms/step - loss: 0.0163 - mse: 0.0163 - mae: 0.1024 - val_loss: 0.0204 - val_mse: 0.0204 - val_mae: 0.1100\n",
            "Epoch 131/150\n",
            "5/5 [==============================] - 0s 10ms/step - loss: 0.0163 - mse: 0.0163 - mae: 0.1018 - val_loss: 0.0204 - val_mse: 0.0204 - val_mae: 0.1087\n",
            "Epoch 132/150\n",
            "5/5 [==============================] - 0s 10ms/step - loss: 0.0163 - mse: 0.0163 - mae: 0.1012 - val_loss: 0.0203 - val_mse: 0.0203 - val_mae: 0.1086\n",
            "Epoch 133/150\n",
            "5/5 [==============================] - 0s 11ms/step - loss: 0.0163 - mse: 0.0163 - mae: 0.1020 - val_loss: 0.0202 - val_mse: 0.0202 - val_mae: 0.1104\n",
            "Epoch 134/150\n",
            "5/5 [==============================] - 0s 10ms/step - loss: 0.0163 - mse: 0.0163 - mae: 0.1026 - val_loss: 0.0202 - val_mse: 0.0202 - val_mae: 0.1101\n",
            "Epoch 135/150\n",
            "5/5 [==============================] - 0s 10ms/step - loss: 0.0162 - mse: 0.0162 - mae: 0.1017 - val_loss: 0.0202 - val_mse: 0.0202 - val_mae: 0.1082\n",
            "Epoch 136/150\n",
            "5/5 [==============================] - 0s 11ms/step - loss: 0.0162 - mse: 0.0162 - mae: 0.1009 - val_loss: 0.0202 - val_mse: 0.0202 - val_mae: 0.1082\n",
            "Epoch 137/150\n",
            "5/5 [==============================] - 0s 11ms/step - loss: 0.0162 - mse: 0.0162 - mae: 0.1015 - val_loss: 0.0202 - val_mse: 0.0202 - val_mae: 0.1101\n",
            "Epoch 138/150\n",
            "5/5 [==============================] - 0s 9ms/step - loss: 0.0162 - mse: 0.0162 - mae: 0.1023 - val_loss: 0.0202 - val_mse: 0.0202 - val_mae: 0.1098\n",
            "Epoch 139/150\n",
            "5/5 [==============================] - 0s 11ms/step - loss: 0.0161 - mse: 0.0161 - mae: 0.1014 - val_loss: 0.0202 - val_mse: 0.0202 - val_mae: 0.1075\n",
            "Epoch 140/150\n",
            "5/5 [==============================] - 0s 12ms/step - loss: 0.0162 - mse: 0.0162 - mae: 0.1003 - val_loss: 0.0202 - val_mse: 0.0202 - val_mae: 0.1074\n",
            "Epoch 141/150\n",
            "5/5 [==============================] - 0s 10ms/step - loss: 0.0162 - mse: 0.0162 - mae: 0.1003 - val_loss: 0.0201 - val_mse: 0.0201 - val_mae: 0.1077\n",
            "Epoch 142/150\n",
            "5/5 [==============================] - 0s 9ms/step - loss: 0.0161 - mse: 0.0161 - mae: 0.1006 - val_loss: 0.0201 - val_mse: 0.0201 - val_mae: 0.1083\n",
            "Epoch 143/150\n",
            "5/5 [==============================] - 0s 11ms/step - loss: 0.0162 - mse: 0.0162 - mae: 0.1016 - val_loss: 0.0201 - val_mse: 0.0201 - val_mae: 0.1094\n",
            "Epoch 144/150\n",
            "5/5 [==============================] - 0s 10ms/step - loss: 0.0161 - mse: 0.0161 - mae: 0.1009 - val_loss: 0.0200 - val_mse: 0.0200 - val_mae: 0.1082\n",
            "Epoch 145/150\n",
            "5/5 [==============================] - 0s 9ms/step - loss: 0.0160 - mse: 0.0160 - mae: 0.1007 - val_loss: 0.0200 - val_mse: 0.0200 - val_mae: 0.1085\n",
            "Epoch 146/150\n",
            "5/5 [==============================] - 0s 11ms/step - loss: 0.0160 - mse: 0.0160 - mae: 0.1007 - val_loss: 0.0200 - val_mse: 0.0200 - val_mae: 0.1074\n",
            "Epoch 147/150\n",
            "5/5 [==============================] - 0s 10ms/step - loss: 0.0160 - mse: 0.0160 - mae: 0.1001 - val_loss: 0.0200 - val_mse: 0.0200 - val_mae: 0.1070\n",
            "Epoch 148/150\n",
            "5/5 [==============================] - 0s 10ms/step - loss: 0.0160 - mse: 0.0160 - mae: 0.1002 - val_loss: 0.0200 - val_mse: 0.0200 - val_mae: 0.1083\n",
            "Epoch 149/150\n",
            "5/5 [==============================] - 0s 10ms/step - loss: 0.0159 - mse: 0.0159 - mae: 0.1009 - val_loss: 0.0200 - val_mse: 0.0200 - val_mae: 0.1093\n",
            "Epoch 150/150\n",
            "5/5 [==============================] - 0s 9ms/step - loss: 0.0160 - mse: 0.0160 - mae: 0.1010 - val_loss: 0.0199 - val_mse: 0.0199 - val_mae: 0.1083\n"
          ]
        }
      ]
    },
    {
      "cell_type": "code",
      "metadata": {
        "id": "4faa5b7f"
      },
      "source": [
        "#Precisión del modelo"
      ],
      "id": "4faa5b7f",
      "execution_count": null,
      "outputs": []
    },
    {
      "cell_type": "code",
      "metadata": {
        "id": "f2406d77",
        "outputId": "a2d68b0d-d93d-4394-e41a-f83aeb807c65"
      },
      "source": [
        "plt.scatter(y_pred_test, y_test, alpha = 0.8, label = 'Test Set')\n",
        "plt.scatter(y_pred_train, y_train, alpha = 0.2, label = 'Training Set')\n",
        "plt.legend()\n",
        "\n",
        "plt.title('Predictions')\n",
        "plt.ylabel('True')\n",
        "plt.xlabel('Predicted')"
      ],
      "id": "f2406d77",
      "execution_count": null,
      "outputs": [
        {
          "data": {
            "text/plain": [
              "Text(0.5, 0, 'Predicted')"
            ]
          },
          "execution_count": 127,
          "metadata": {},
          "output_type": "execute_result"
        },
        {
          "data": {
            "image/png": "[encoded data removed]",
            "text/plain": [
              "<Figure size 432x288 with 1 Axes>"
            ]
          },
          "metadata": {
            "needs_background": "light"
          },
          "output_type": "display_data"
        }
      ]
    },
    {
      "cell_type": "markdown",
      "metadata": {
        "id": "11a7c933"
      },
      "source": [
        "# POLÍMEROS A PARTIR DE ISOBUTILENO Y ÁCIDO LÁCTICO"
      ],
      "id": "11a7c933"
    },
    {
      "cell_type": "code",
      "metadata": {
        "id": "3660eba7"
      },
      "source": [
        "import numpy as np\n",
        "import pandas as pd\n",
        "import rdkit"
      ],
      "id": "3660eba7",
      "execution_count": null,
      "outputs": []
    },
    {
      "cell_type": "code",
      "metadata": {
        "id": "dfa27a9a"
      },
      "source": [
        "from rdkit.Chem import AllChem\n",
        "from rdkit import Chem\n",
        "from rdkit.Chem import Descriptors"
      ],
      "id": "dfa27a9a",
      "execution_count": null,
      "outputs": []
    },
    {
      "cell_type": "code",
      "metadata": {
        "id": "f77c192f"
      },
      "source": [
        "from rdkit.ML.Descriptors import MoleculeDescriptors\n",
        "import matplotlib.pyplot as plt"
      ],
      "id": "f77c192f",
      "execution_count": null,
      "outputs": []
    },
    {
      "cell_type": "code",
      "metadata": {
        "id": "f281b5de"
      },
      "source": [
        "from mordred import Calculator"
      ],
      "id": "f281b5de",
      "execution_count": null,
      "outputs": []
    },
    {
      "cell_type": "markdown",
      "metadata": {
        "id": "de2dae23"
      },
      "source": [
        "# Buscar inputs para poder predecir el Tg del Isobutileno y el Ácido Láctico "
      ],
      "id": "de2dae23"
    },
    {
      "cell_type": "code",
      "metadata": {
        "id": "34e05402",
        "colab": {
          "base_uri": "https://localhost:8080/",
          "height": 163
        },
        "outputId": "f67c9571-4487-49b3-95a1-0c3afdc1a503"
      },
      "source": [
        "random = pd.read_csv('Moleculas.csv')"
      ],
      "id": "34e05402",
      "execution_count": null,
      "outputs": [
        {
          "output_type": "error",
          "ename": "NameError",
          "evalue": "ignored",
          "traceback": [
            "\u001b[0;31m---------------------------------------------------------------------------\u001b[0m",
            "\u001b[0;31mNameError\u001b[0m                                 Traceback (most recent call last)",
            "\u001b[0;32m<ipython-input-3-e18d779677be>\u001b[0m in \u001b[0;36m<module>\u001b[0;34m()\u001b[0m\n\u001b[0;32m----> 1\u001b[0;31m \u001b[0mrandom\u001b[0m \u001b[0;34m=\u001b[0m \u001b[0mpd\u001b[0m\u001b[0;34m.\u001b[0m\u001b[0mread_csv\u001b[0m\u001b[0;34m(\u001b[0m\u001b[0;34m'Moleculas.csv'\u001b[0m\u001b[0;34m)\u001b[0m\u001b[0;34m\u001b[0m\u001b[0;34m\u001b[0m\u001b[0m\n\u001b[0m",
            "\u001b[0;31mNameError\u001b[0m: name 'pd' is not defined"
          ]
        }
      ]
    },
    {
      "cell_type": "code",
      "metadata": {
        "id": "1e6c2ff4",
        "colab": {
          "base_uri": "https://localhost:8080/",
          "height": 163
        },
        "outputId": "b70b5b5d-43d8-4388-f61f-51da81550f4d"
      },
      "source": [
        "random"
      ],
      "id": "1e6c2ff4",
      "execution_count": null,
      "outputs": [
        {
          "output_type": "error",
          "ename": "NameError",
          "evalue": "ignored",
          "traceback": [
            "\u001b[0;31m---------------------------------------------------------------------------\u001b[0m",
            "\u001b[0;31mNameError\u001b[0m                                 Traceback (most recent call last)",
            "\u001b[0;32m<ipython-input-4-5d64b71392b1>\u001b[0m in \u001b[0;36m<module>\u001b[0;34m()\u001b[0m\n\u001b[0;32m----> 1\u001b[0;31m \u001b[0mrandom\u001b[0m\u001b[0;34m\u001b[0m\u001b[0;34m\u001b[0m\u001b[0m\n\u001b[0m",
            "\u001b[0;31mNameError\u001b[0m: name 'random' is not defined"
          ]
        }
      ]
    },
    {
      "cell_type": "code",
      "metadata": {
        "id": "49514a17"
      },
      "source": [
        "random['mol'] = random['SMILES'].map(Chem.MolFromSmiles).map(Chem.AddHs)"
      ],
      "id": "49514a17",
      "execution_count": null,
      "outputs": []
    },
    {
      "cell_type": "code",
      "metadata": {
        "id": "56aa959a"
      },
      "source": [
        "random['Peso Molecular'] = random['mol'].map(Descriptors.MolWt)\n",
        "random['EValencia'] =  random['mol'].map(Descriptors.NumValenceElectrons)\n",
        "random['Rotables'] = random['mol'].map(Descriptors.NumRotatableBonds)\n",
        "random['TPSA'] = random['mol'].map(Descriptors.TPSA)\n",
        "random['CParcial'] = random['mol'].map(Descriptors.MaxAbsPartialCharge)\n",
        "random['EEmax'] = random['mol'].map(Descriptors.MaxEStateIndex)\n",
        "random['EEmin'] = random['mol'].map(Descriptors.MinEStateIndex)\n",
        "random['AAromaticos'] = random['mol'].map(Descriptors.NumAromaticRings)"
      ],
      "id": "56aa959a",
      "execution_count": null,
      "outputs": []
    },
    {
      "cell_type": "code",
      "metadata": {
        "id": "750154c9"
      },
      "source": [
        "random"
      ],
      "id": "750154c9",
      "execution_count": null,
      "outputs": []
    },
    {
      "cell_type": "code",
      "metadata": {
        "id": "f9652d54"
      },
      "source": [
        "random_O = random[['Nombre', 'Peso Molecular', 'EValencia', 'Rotables', 'TPSA', 'CParcial', 'EEmax', 'EEmin', 'AAromaticos']]\n",
        "# random_O muestra los datos de forma ordenada, similar a la de datos_M"
      ],
      "id": "f9652d54",
      "execution_count": null,
      "outputs": []
    },
    {
      "cell_type": "code",
      "metadata": {
        "id": "97f41807"
      },
      "source": [
        "random_O"
      ],
      "id": "97f41807",
      "execution_count": null,
      "outputs": []
    },
    {
      "cell_type": "code",
      "metadata": {
        "id": "4253ecf8"
      },
      "source": [
        "random.to_csv('base_ramdom.csv') #Guardamos base nueva para poder usarla en otra ocasión "
      ],
      "id": "4253ecf8",
      "execution_count": null,
      "outputs": []
    },
    {
      "cell_type": "markdown",
      "metadata": {
        "id": "d1800795"
      },
      "source": [
        "# Predecir Tg del Isobutileno"
      ],
      "id": "d1800795"
    },
    {
      "cell_type": "code",
      "metadata": {
        "id": "900c8d2f",
        "colab": {
          "base_uri": "https://localhost:8080/",
          "height": 231
        },
        "outputId": "d0ddc111-358e-499e-bc99-a86b2fb2f251"
      },
      "source": [
        "Xnew = np.array([[56.108, 24, 2, 0.00, 0.100420, 6.750579, -2.884838, 0]])\n",
        "Xnew = scaler_x.transform(Xnew)\n",
        "ynew = model.predict(Xnew)\n",
        "\n",
        "#invert normalize\n",
        "ynew = scaler_y.inverse_transform(ynew)\n",
        "Xnew = scaler_x.inverse_transform(Xnew)\n",
        "\n",
        "print('X=%s, Predicted=%s' %(Xnew[0], ynew[0]))"
      ],
      "id": "900c8d2f",
      "execution_count": null,
      "outputs": [
        {
          "output_type": "error",
          "ename": "NameError",
          "evalue": "ignored",
          "traceback": [
            "\u001b[0;31m---------------------------------------------------------------------------\u001b[0m",
            "\u001b[0;31mNameError\u001b[0m                                 Traceback (most recent call last)",
            "\u001b[0;32m<ipython-input-2-b4131db9ce28>\u001b[0m in \u001b[0;36m<module>\u001b[0;34m()\u001b[0m\n\u001b[0;32m----> 1\u001b[0;31m \u001b[0mXnew\u001b[0m \u001b[0;34m=\u001b[0m \u001b[0mnp\u001b[0m\u001b[0;34m.\u001b[0m\u001b[0marray\u001b[0m\u001b[0;34m(\u001b[0m\u001b[0;34m[\u001b[0m\u001b[0;34m[\u001b[0m\u001b[0;36m56.108\u001b[0m\u001b[0;34m,\u001b[0m \u001b[0;36m24\u001b[0m\u001b[0;34m,\u001b[0m \u001b[0;36m2\u001b[0m\u001b[0;34m,\u001b[0m \u001b[0;36m0.00\u001b[0m\u001b[0;34m,\u001b[0m \u001b[0;36m0.100420\u001b[0m\u001b[0;34m,\u001b[0m \u001b[0;36m6.750579\u001b[0m\u001b[0;34m,\u001b[0m \u001b[0;34m-\u001b[0m\u001b[0;36m2.884838\u001b[0m\u001b[0;34m,\u001b[0m \u001b[0;36m0\u001b[0m\u001b[0;34m]\u001b[0m\u001b[0;34m]\u001b[0m\u001b[0;34m)\u001b[0m\u001b[0;34m\u001b[0m\u001b[0;34m\u001b[0m\u001b[0m\n\u001b[0m\u001b[1;32m      2\u001b[0m \u001b[0mXnew\u001b[0m \u001b[0;34m=\u001b[0m \u001b[0mscaler_x\u001b[0m\u001b[0;34m.\u001b[0m\u001b[0mtransform\u001b[0m\u001b[0;34m(\u001b[0m\u001b[0mXnew\u001b[0m\u001b[0;34m)\u001b[0m\u001b[0;34m\u001b[0m\u001b[0;34m\u001b[0m\u001b[0m\n\u001b[1;32m      3\u001b[0m \u001b[0mynew\u001b[0m \u001b[0;34m=\u001b[0m \u001b[0mmodel\u001b[0m\u001b[0;34m.\u001b[0m\u001b[0mpredict\u001b[0m\u001b[0;34m(\u001b[0m\u001b[0mXnew\u001b[0m\u001b[0;34m)\u001b[0m\u001b[0;34m\u001b[0m\u001b[0;34m\u001b[0m\u001b[0m\n\u001b[1;32m      4\u001b[0m \u001b[0;34m\u001b[0m\u001b[0m\n\u001b[1;32m      5\u001b[0m \u001b[0;31m#invert normalize\u001b[0m\u001b[0;34m\u001b[0m\u001b[0;34m\u001b[0m\u001b[0;34m\u001b[0m\u001b[0m\n",
            "\u001b[0;31mNameError\u001b[0m: name 'np' is not defined"
          ]
        }
      ]
    },
    {
      "cell_type": "markdown",
      "metadata": {
        "id": "92fdf2f4"
      },
      "source": [
        "# Predecir Tg del ácido láctico "
      ],
      "id": "92fdf2f4"
    },
    {
      "cell_type": "code",
      "metadata": {
        "id": "9ed77465",
        "colab": {
          "base_uri": "https://localhost:8080/",
          "height": 231
        },
        "outputId": "c4329ec4-76ae-4f9e-a812-7f952e82dcf1"
      },
      "source": [
        "Xnew = np.array([[90.078, 36, 3, 57.53, 0.479336, 10.509236,  -3.159838, 0]])\n",
        "Xnew = scaler_x.transform(Xnew)\n",
        "ynew = model.predict(Xnew)\n",
        "\n",
        "#invert normalize\n",
        "ynew = scaler_y.inverse_transform(ynew)\n",
        "Xnew = scaler_x.inverse_transform(Xnew)\n",
        "\n",
        "print('X=%s, Predicted=%s' %(Xnew[0], ynew[0]))"
      ],
      "id": "9ed77465",
      "execution_count": null,
      "outputs": [
        {
          "output_type": "error",
          "ename": "NameError",
          "evalue": "ignored",
          "traceback": [
            "\u001b[0;31m---------------------------------------------------------------------------\u001b[0m",
            "\u001b[0;31mNameError\u001b[0m                                 Traceback (most recent call last)",
            "\u001b[0;32m<ipython-input-1-12a3e855ab80>\u001b[0m in \u001b[0;36m<module>\u001b[0;34m()\u001b[0m\n\u001b[0;32m----> 1\u001b[0;31m \u001b[0mXnew\u001b[0m \u001b[0;34m=\u001b[0m \u001b[0mnp\u001b[0m\u001b[0;34m.\u001b[0m\u001b[0marray\u001b[0m\u001b[0;34m(\u001b[0m\u001b[0;34m[\u001b[0m\u001b[0;34m[\u001b[0m\u001b[0;36m90.078\u001b[0m\u001b[0;34m,\u001b[0m \u001b[0;36m36\u001b[0m\u001b[0;34m,\u001b[0m \u001b[0;36m3\u001b[0m\u001b[0;34m,\u001b[0m \u001b[0;36m57.53\u001b[0m\u001b[0;34m,\u001b[0m \u001b[0;36m0.479336\u001b[0m\u001b[0;34m,\u001b[0m \u001b[0;36m10.509236\u001b[0m\u001b[0;34m,\u001b[0m  \u001b[0;34m-\u001b[0m\u001b[0;36m3.159838\u001b[0m\u001b[0;34m,\u001b[0m \u001b[0;36m0\u001b[0m\u001b[0;34m]\u001b[0m\u001b[0;34m]\u001b[0m\u001b[0;34m)\u001b[0m\u001b[0;34m\u001b[0m\u001b[0;34m\u001b[0m\u001b[0m\n\u001b[0m\u001b[1;32m      2\u001b[0m \u001b[0mXnew\u001b[0m \u001b[0;34m=\u001b[0m \u001b[0mscaler_x\u001b[0m\u001b[0;34m.\u001b[0m\u001b[0mtransform\u001b[0m\u001b[0;34m(\u001b[0m\u001b[0mXnew\u001b[0m\u001b[0;34m)\u001b[0m\u001b[0;34m\u001b[0m\u001b[0;34m\u001b[0m\u001b[0m\n\u001b[1;32m      3\u001b[0m \u001b[0mynew\u001b[0m \u001b[0;34m=\u001b[0m \u001b[0mmodel\u001b[0m\u001b[0;34m.\u001b[0m\u001b[0mpredict\u001b[0m\u001b[0;34m(\u001b[0m\u001b[0mXnew\u001b[0m\u001b[0;34m)\u001b[0m\u001b[0;34m\u001b[0m\u001b[0;34m\u001b[0m\u001b[0m\n\u001b[1;32m      4\u001b[0m \u001b[0;34m\u001b[0m\u001b[0m\n\u001b[1;32m      5\u001b[0m \u001b[0;31m#invert normalize\u001b[0m\u001b[0;34m\u001b[0m\u001b[0;34m\u001b[0m\u001b[0;34m\u001b[0m\u001b[0m\n",
            "\u001b[0;31mNameError\u001b[0m: name 'np' is not defined"
          ]
        }
      ]
    },
    {
      "cell_type": "code",
      "metadata": {
        "id": "524088ed"
      },
      "source": [
        "# Predicted = Tg (Temperatura de trancisión vítrea)"
      ],
      "id": "524088ed",
      "execution_count": null,
      "outputs": []
    },
    {
      "cell_type": "code",
      "metadata": {
        "id": "743ad1d9"
      },
      "source": [
        ""
      ],
      "id": "743ad1d9",
      "execution_count": null,
      "outputs": []
    }
  ]
}